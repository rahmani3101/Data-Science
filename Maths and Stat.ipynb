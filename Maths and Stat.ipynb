{
 "cells": [
  {
   "cell_type": "markdown",
   "id": "bcc4075b-c89c-40d8-bbcf-e741fa5147e5",
   "metadata": {},
   "source": [
    "## Maths and Stat"
   ]
  },
  {
   "cell_type": "code",
   "execution_count": 1,
   "id": "f4a95196-0d67-4739-ab3a-712968f561bb",
   "metadata": {},
   "outputs": [],
   "source": [
    "import numpy as np"
   ]
  },
  {
   "cell_type": "code",
   "execution_count": 3,
   "id": "591216d7-0715-4a95-94f4-68b3276d0f98",
   "metadata": {},
   "outputs": [
    {
     "name": "stdout",
     "output_type": "stream",
     "text": [
      "[-0.60360334 -0.19251702 -0.46989378  0.39076292]\n",
      "-0.21881280547382287\n",
      "0.3818964027045163\n",
      "0\n",
      "3\n"
     ]
    }
   ],
   "source": [
    "rnd = np.random.randn(4)\n",
    "print(rnd)\n",
    "print(rnd.mean())\n",
    "print(rnd.std())\n",
    "print(rnd.argmin())    # index of minimum element\n",
    "print(rnd.argmax())     # index of maximum elemnet"
   ]
  },
  {
   "cell_type": "code",
   "execution_count": 4,
   "id": "6dc0039c-9b0e-4f65-9ee5-b0c2e1cfbc50",
   "metadata": {},
   "outputs": [
    {
     "name": "stdout",
     "output_type": "stream",
     "text": [
      "[[ 0.36969647 -1.11780438]\n",
      " [-0.74422837  0.55419142]\n",
      " [ 0.12023347  2.51418554]\n",
      " [ 0.44257809 -1.68145166]]\n",
      "[0.18827966 0.26912093]\n",
      "[-0.7481079  -0.19003695  2.63441902 -1.23887357]\n"
     ]
    }
   ],
   "source": [
    "rnd = np.random.randn(4,2)\n",
    "print(rnd)\n",
    "\n",
    "print(rnd.sum(axis=0))  # sum of column\n",
    "print(rnd.sum(axis=1))   # sum of row"
   ]
  },
  {
   "cell_type": "code",
   "execution_count": 5,
   "id": "aa191c0e-361c-4ed1-8579-034ef2caddfd",
   "metadata": {},
   "outputs": [
    {
     "name": "stdout",
     "output_type": "stream",
     "text": [
      "[[ 0.69608896  1.06251946]\n",
      " [ 0.95136279 -0.08732326]\n",
      " [ 0.44916257 -0.49970607]\n",
      " [-0.18570783 -0.33000168]]\n",
      "4\n",
      "True\n"
     ]
    }
   ],
   "source": [
    "# methods for boolean array\n",
    "\n",
    "rnd = np.random.randn(4,2)\n",
    "print(rnd)\n",
    "\n",
    "# count the number of positive value\n",
    "print((rnd>0).sum())\n",
    "print((rnd > 0).any())   # check if value is True"
   ]
  },
  {
   "cell_type": "code",
   "execution_count": 7,
   "id": "0a23d59f-2538-4311-b732-4bc2f7ca2c2a",
   "metadata": {},
   "outputs": [
    {
     "name": "stdout",
     "output_type": "stream",
     "text": [
      "[ 4  8 19 29  8 29 12  3  9 28]\n"
     ]
    }
   ],
   "source": [
    "vect1 = np.random.randint(1,30,10)\n",
    "print(vect1)"
   ]
  },
  {
   "cell_type": "markdown",
   "id": "2d72fe79-e128-4d3a-a219-b001298d5c69",
   "metadata": {},
   "source": [
    "## Gaussian Distribution"
   ]
  },
  {
   "cell_type": "code",
   "execution_count": 10,
   "id": "e888a9c7-8c45-42a5-919f-7b3ece267fce",
   "metadata": {},
   "outputs": [
    {
     "name": "stdout",
     "output_type": "stream",
     "text": [
      "[ 4.19676963e-01 -1.66025691e+00  1.36331612e+00 -1.53652250e-01\n",
      "  1.25314531e+00 -7.26721433e-01 -5.69835383e-01 -7.39117018e-01\n",
      "  3.83934853e-01  1.28035237e+00  2.64776923e-01  2.02836733e-02\n",
      "  9.54689858e-02 -6.53075018e-01 -5.31905252e-02  2.14210980e-01\n",
      " -5.77133994e-01  1.83479151e+00 -8.85072450e-01 -9.80230794e-01\n",
      "  9.38708154e-01  8.11954659e-02  2.01800837e-01 -1.59058133e+00\n",
      "  4.64824093e-01  1.02089421e+00  3.11086579e-02  7.51441097e-01\n",
      "  3.34508914e-01  8.38118722e-01  1.33492723e-01 -5.67119087e-01\n",
      " -1.85196482e+00  1.01431889e+00 -5.35913078e-01 -2.04477313e+00\n",
      " -6.51911239e-01  1.37295237e+00 -6.12930726e-01 -2.17315524e+00\n",
      "  4.95989191e-01 -1.22356899e+00  1.74196470e+00 -2.25656995e+00\n",
      "  3.70864035e-01  1.43469011e+00 -1.28278905e-01 -1.81206791e+00\n",
      "  9.15847325e-01  4.01486150e-01 -1.34176671e+00 -6.74087962e-01\n",
      " -2.42753687e-01 -1.50642603e-01 -8.82297376e-01 -9.42491738e-01\n",
      " -2.80800473e-01 -7.29388519e-01 -4.20898005e-01 -8.40731432e-01\n",
      "  9.16445433e-01 -1.47263113e+00 -2.00931912e-01  2.63742399e-01\n",
      "  1.52845979e+00 -5.86619227e-01  1.23339319e+00  1.71910865e+00\n",
      " -7.61985127e-01 -1.34575449e+00 -6.83952029e-01 -4.18420414e-01\n",
      "  1.73055533e+00 -1.05646985e+00 -1.78221098e+00  3.18661302e-01\n",
      "  1.34233938e-01 -1.06099144e+00 -1.95811062e+00 -1.40582187e-01\n",
      "  5.65943851e-01  5.63783673e-02 -2.93848825e+00  2.26947045e-02\n",
      "  1.56793785e+00 -1.45661129e+00  5.71244477e-01 -1.08658999e+00\n",
      " -1.29964053e+00 -8.44085300e-01  6.63890242e-01  1.28207015e+00\n",
      " -4.76359510e-01  2.82183109e-01  5.84973813e-01  1.79898888e+00\n",
      "  1.44692448e+00 -4.63898659e-01 -1.35866774e+00  1.22087950e+00\n",
      " -6.72805322e-01 -6.82897309e-01  1.48019509e+00 -6.10098602e-01\n",
      " -1.65437686e+00  1.11366371e+00 -5.60609693e-01  4.97998782e-01\n",
      "  4.41321752e-01 -8.77390015e-01 -2.53287533e-01  1.44549999e-01\n",
      "  1.77019069e+00  6.29453484e-01 -9.63843273e-01  5.00876206e-02\n",
      " -8.43728089e-01  6.89160916e-01 -6.23562514e-01  3.01086025e-01\n",
      "  1.57281919e+00  3.64838931e-01  6.41900173e-01  3.49694045e-01\n",
      " -1.98800207e-01 -6.29872401e-01  2.14811987e+00  1.31766201e+00\n",
      "  8.99125611e-01 -1.37176277e+00 -2.48749189e-01  1.73010522e+00\n",
      " -4.51356458e-01 -8.11498190e-01  1.49054692e+00  5.46933626e-02\n",
      "  3.91358987e-01  8.73049330e-01  1.37210959e-01  2.66588260e+00\n",
      " -3.30045500e-01 -6.18928165e-01  1.97509885e+00 -5.23881473e-01\n",
      " -4.01059943e-01  7.50938160e-01  8.14769798e-01  1.89808602e+00\n",
      "  9.78506502e-02  1.03576262e-01  6.65343228e-01  6.78976122e-01\n",
      " -5.32178580e-01  7.70060523e-01  4.12304910e-01 -6.59596323e-01\n",
      " -1.30992298e+00 -2.25983868e+00  1.29736141e+00 -1.19836196e+00\n",
      " -5.40900226e-01 -3.65187351e-01  4.56439238e-01  6.45009860e-01\n",
      "  3.60044731e-02 -1.58856670e+00 -1.92363542e+00 -1.69098241e+00\n",
      "  6.55507176e-01 -7.83550049e-01  5.88058793e-01  5.84407163e-01\n",
      "  3.34952971e-01 -7.48701581e-01 -9.62849607e-01  1.46612510e+00\n",
      "  1.09151015e+00 -1.84998164e-01 -2.51999060e-01 -1.01802569e+00\n",
      " -3.23288892e-01  2.06799070e+00  1.09091470e+00 -5.38874358e-01\n",
      "  7.49324585e-01  6.00768183e-01  1.17619262e-01 -6.79603747e-01\n",
      "  2.02926891e-01 -1.06450444e+00  4.17076092e-01  1.42635691e+00\n",
      "  7.05970241e-01 -7.11642463e-01 -1.75301641e-01  8.19948371e-01\n",
      "  4.44424149e-01 -8.24759805e-01  5.79198359e-01  7.31096706e-01\n",
      "  2.44760777e-01  6.97818222e-01  6.83964254e-01 -9.72021422e-01\n",
      " -1.00191360e+00  6.87738349e-01 -6.17162203e-01 -1.30388481e+00\n",
      " -1.16704483e+00  6.93194217e-01 -5.63066661e-01  2.56535133e+00\n",
      " -1.15989512e+00  4.64120863e-01  3.27003525e-01  3.64901325e-01\n",
      " -1.33579268e-01 -4.63293046e-01 -1.11506852e+00  9.35242185e-01\n",
      "  1.71147698e+00 -1.31983468e-04 -1.99461280e+00  9.20371666e-01\n",
      " -1.43190750e-01  1.31903648e-01  6.04335216e-01 -1.38498695e-01\n",
      "  7.98281782e-01  8.02906682e-01 -1.34750613e+00  1.10128317e+00\n",
      " -1.28985101e+00  1.23550414e+00 -8.80031725e-01 -1.75412003e+00\n",
      "  9.61187344e-01 -2.36773401e-01 -1.36598754e+00  1.00975522e+00\n",
      " -2.05794188e+00  8.47568404e-01  4.79684087e-01 -8.77504406e-01\n",
      " -9.12462144e-01  4.90010021e-03  6.40786118e-01 -1.52557238e-01\n",
      "  1.31923273e-01 -3.74656106e-01 -7.97792292e-01  8.28516495e-02\n",
      " -2.37546747e-01  7.73711031e-01  7.72920376e-01  7.85799960e-01\n",
      "  1.19429768e-01 -1.22431408e+00  4.02144994e-01 -1.06449879e+00\n",
      "  1.90773596e-01  1.17825003e+00 -6.90269730e-02  1.92998344e-02\n",
      "  7.97790214e-02  1.22228735e+00 -5.70874815e-01 -3.42404868e-01\n",
      "  3.02376799e-01 -6.85628024e-01  1.07949430e+00  1.64627119e+00\n",
      " -1.96290737e-01 -1.96666601e+00  1.53416996e-01  3.19295184e-01\n",
      "  5.95070279e-01 -1.76169361e+00 -2.16506651e+00 -2.13183795e-01\n",
      "  4.16281596e-01  4.20687417e-01 -1.48443455e+00 -7.96069864e-01\n",
      " -6.43929624e-01  1.35527324e+00 -3.06573292e-01 -5.11803412e-02\n",
      "  6.51767471e-01 -2.33257977e-01 -7.21776842e-01 -1.55388661e-01\n",
      " -4.72436895e-01 -1.37160822e+00 -4.88649656e-01  2.92261618e-01\n",
      " -7.85234451e-01 -6.02392561e-01  1.34779239e+00 -9.59096633e-01\n",
      " -1.09841043e-01 -4.51490638e-01 -1.33598649e+00 -9.20261281e-01\n",
      " -5.18667414e-02  2.85426245e-01 -8.10908453e-01  1.26190035e-02\n",
      "  4.00411793e-01 -1.02478472e+00  8.48563481e-02  1.65409429e+00\n",
      " -1.78041746e+00 -8.54711393e-01  1.49313857e-01  7.63289578e-01\n",
      " -2.75383118e-01  1.04444574e+00  4.07226932e-01  7.53325653e-01\n",
      " -2.23306970e-01 -4.24601414e-01 -1.47381587e+00 -3.74594416e-01\n",
      " -1.18223506e+00 -2.02857587e-02 -7.54300945e-01 -1.12733968e+00\n",
      " -1.11663805e+00 -1.82470712e-01 -1.96294713e+00 -1.06968258e+00\n",
      "  8.26533382e-01 -1.04711156e+00  1.52584254e-01  2.08536951e+00\n",
      "  1.61579617e-01 -9.81565724e-01 -1.80285904e+00 -5.76104939e-01\n",
      "  1.05623022e+00  1.27171097e+00  3.10833796e-01  5.11113911e-01\n",
      "  8.00727247e-01  1.36012844e+00 -3.01446971e-01  9.12003790e-01\n",
      "  2.69183747e+00  4.14593356e-01  1.98288578e+00  4.27059360e-02\n",
      " -6.60777216e-02  9.83921159e-01  1.76364806e+00  6.20314763e-01\n",
      "  4.63642819e-01  6.02592374e-01 -1.17365679e+00 -1.76555078e+00\n",
      " -5.22079116e-02 -2.17169312e-02 -2.40227934e-01  5.59749091e-01\n",
      " -6.62815558e-01 -6.89754034e-01 -5.72492293e-01 -1.20659756e+00\n",
      " -5.58893815e-01 -3.94887071e-01 -1.04959283e+00  1.15154140e+00\n",
      " -6.16483146e-02 -4.90437202e-01  1.18919391e+00  4.36521213e-01\n",
      "  2.00367558e-01 -4.01333419e-01  1.50066803e+00  6.07765325e-01\n",
      " -4.86338322e-01 -4.48022790e-01  1.02704472e+00  1.94214486e+00\n",
      "  7.14176493e-01  1.46620946e-01 -1.51188886e+00  1.04289697e+00\n",
      " -4.50160017e-01 -3.78632913e-01 -6.17096299e-01 -1.02782206e-01\n",
      "  1.15152884e+00  1.00224153e+00 -1.41344294e-01  3.70865609e-01\n",
      " -2.21909667e+00  9.98886175e-02 -1.06775096e+00  2.07508154e-01\n",
      " -5.53459476e-02  1.06739389e+00  8.55656525e-01 -1.43664959e-01\n",
      "  5.77745280e-01  5.37953924e-02 -5.61113886e-01 -1.96093718e+00\n",
      "  1.40254063e+00  4.27335399e-01 -2.80324928e-01 -2.93739474e-01\n",
      "  7.22302731e-01 -3.26554293e-01  1.84790655e+00  3.31048459e-01\n",
      " -2.36418394e-01 -2.02936507e-01  6.75972640e-01 -5.97663778e-01\n",
      "  2.46697973e-01 -3.07037025e-01  7.84892445e-01 -3.01783179e-01\n",
      "  3.42500198e-01 -1.76762220e+00  8.55301159e-02  8.33976075e-01\n",
      "  4.30807116e-01  6.53293581e-01  8.38466231e-02 -1.11914064e+00\n",
      " -4.36956689e-02 -1.61479182e+00  9.04908373e-01  1.94386131e+00\n",
      " -6.66462378e-01  1.00319428e+00  1.16670911e+00  1.83140179e-01\n",
      "  1.71283002e-01  1.35993697e+00 -2.02503928e-01 -1.03015693e+00\n",
      "  1.05069919e+00  1.17637876e+00  8.08182239e-02 -4.38908039e-01\n",
      "  1.41171992e-01 -1.67793500e-01  1.06446227e+00  2.63121830e-01\n",
      " -7.13057158e-01  1.02476828e+00 -2.69531147e+00 -2.18621402e-01\n",
      "  3.11515946e-01  2.53301775e+00 -7.98078661e-01 -3.36725475e-01\n",
      "  8.37521989e-01 -7.35730597e-01  6.47408967e-01 -1.09404838e+00\n",
      "  1.30612088e+00  9.05208122e-01 -1.95550584e+00  1.74150227e+00\n",
      " -1.45619305e-01  3.06570899e-02 -5.24185793e-02  1.99758827e-01\n",
      " -5.39785373e-01 -5.74537607e-01 -4.79491116e-01  6.95454825e-01\n",
      " -6.43629495e-01 -4.81277244e-01 -1.18613492e+00  2.54268128e-02\n",
      " -1.62025224e+00 -2.64054960e-01 -8.67280967e-01 -1.27040567e+00\n",
      "  1.08602161e+00 -6.30598372e-01 -5.13936622e-02 -1.39587391e-01\n",
      " -2.57911719e-01 -4.93500065e-01 -2.38545889e-02  5.55709247e-02\n",
      " -8.46757418e-01 -5.71818372e-03 -1.30122929e+00 -1.24606721e-01\n",
      "  2.42471234e-01 -1.75527732e+00 -7.76855060e-01  6.36518220e-01\n",
      "  5.68103748e-01 -1.98235584e+00  8.04147599e-01 -1.17999610e-01\n",
      "  4.82392487e-01  7.91938348e-01 -1.55305234e+00  2.15928321e+00\n",
      "  1.10551610e+00  6.12522226e-01 -7.65445861e-01 -6.09232398e-01\n",
      " -9.10862703e-01 -9.33708911e-01  1.82010565e+00 -2.10100406e-01\n",
      "  7.15109500e-01 -3.86392961e-01 -2.23802223e+00  3.12899100e-01\n",
      " -4.81270233e-01  2.35437555e-01  6.90617523e-01  1.39617545e+00\n",
      "  9.21668578e-01  1.17744781e+00  2.52084754e-01 -2.51828346e+00\n",
      " -2.00580713e+00  1.44891919e+00 -8.45020394e-01  8.28263061e-01\n",
      " -9.95319064e-02  1.49734580e-01 -9.62747727e-01 -5.62609849e-01\n",
      " -7.87145380e-01 -1.70625906e+00  3.13769292e-01 -4.09227567e-01\n",
      " -1.62411477e+00  5.10085841e-01  3.82299005e-01  9.52312715e-01\n",
      " -1.08188982e+00  4.03676660e-01  1.36324885e+00  1.20184626e-02\n",
      " -1.30866449e+00  2.03299240e+00  4.82796077e-01 -1.02706100e+00\n",
      " -1.03687901e+00  2.60304355e-01 -1.39645381e-01 -5.16680402e-03\n",
      " -4.25680828e-01  1.32384917e+00  2.75558637e-01  1.17638077e+00\n",
      "  4.76698754e-02 -5.80335894e-02  6.06038779e-01 -5.92066478e-01\n",
      "  5.42255545e-01 -2.00599435e+00  1.08487647e+00  1.12696154e+00\n",
      " -6.69669817e-01 -8.26726217e-01 -2.15203650e+00  1.10914141e-01\n",
      " -1.70317840e+00  1.27154145e+00 -8.97651803e-01  2.13563351e-01\n",
      "  2.12129098e+00 -3.89404679e-02 -1.28186908e-01  5.20642220e-01\n",
      " -6.26243152e-01  2.17274349e-01  3.42240509e-01  8.26783886e-01\n",
      " -3.78955178e-01  1.40039517e+00  1.97689562e-01  9.11974726e-02\n",
      " -4.62590732e-01 -1.28633417e+00 -8.09171088e-01  5.54636917e-01\n",
      " -5.33985907e-01  6.00973361e-01  1.19630759e+00 -7.79098461e-01\n",
      "  3.15401215e-01 -2.89145859e-01 -1.35530736e+00  1.29119353e-02\n",
      " -4.73260713e-01 -1.05660093e+00 -1.99701525e-01 -1.24087560e+00\n",
      " -1.18002964e+00  8.92719771e-01 -3.41707435e-01  5.74100663e-01\n",
      "  1.49976488e+00 -7.39443425e-01  1.62353679e+00 -6.05184238e-01\n",
      " -1.05196200e-01  1.57828248e+00 -1.67549741e+00 -1.42273634e+00\n",
      "  9.57393717e-01 -6.10578775e-01  1.66748766e+00 -9.48667258e-01\n",
      " -2.88028418e-01  1.15474085e+00  4.69957200e-01  1.10476675e+00\n",
      " -5.35612422e-01 -5.46817362e-01 -2.88690654e-01 -1.12634145e+00\n",
      "  2.24094271e+00  1.82866710e+00  7.14247533e-01 -2.32034430e-01\n",
      " -1.50630265e+00  6.43588856e-01  4.10115563e-01  7.72584964e-01\n",
      "  9.87218347e-01 -4.80234333e-01  1.40137770e+00  1.42500203e+00\n",
      "  6.66970731e-01 -7.98503236e-01  6.45466674e-01  3.01256041e-01\n",
      " -9.67927747e-01  1.06717106e+00  1.42059990e+00  1.50090753e-02\n",
      " -1.53112522e+00 -9.56741371e-01 -2.44392489e-01  5.68976894e-01\n",
      " -4.13644738e-01  8.44592561e-01  1.51713416e+00 -1.58210531e+00\n",
      " -6.13283790e-01 -5.98839966e-01 -9.84706800e-02  8.56277790e-01\n",
      " -7.43278025e-01  3.10984005e+00 -6.20274318e-02 -2.21858804e+00\n",
      " -5.27651468e-01  9.43434357e-01 -1.33103273e+00 -1.09308328e+00\n",
      " -4.42641551e-01 -1.17902584e+00  1.15513911e+00 -3.97771010e-02\n",
      " -1.48042277e+00 -3.95243850e-01 -4.04844881e-01  1.51002809e+00\n",
      "  7.97811825e-01 -1.78835918e+00  9.38545028e-01  3.44558156e-01\n",
      " -3.15575204e-01  3.57812034e-01 -2.29967485e+00  1.39160071e+00\n",
      "  2.52492492e-01 -7.72500561e-01  5.33334746e-01 -9.44731488e-01\n",
      " -1.40219412e+00 -7.79931413e-01 -2.97491320e-01  1.05848539e+00\n",
      " -5.60288603e-01 -1.46789841e+00  1.92357239e-01  1.05128120e+00\n",
      "  2.91731543e-01 -3.29707782e-01  1.62747692e+00  2.10330599e+00\n",
      "  1.36874741e-01 -1.97821500e+00 -7.45152274e-01  5.08345644e-01\n",
      " -1.03389561e+00 -1.75841268e-01  3.63645823e-01 -9.61025103e-01\n",
      "  7.49102201e-01  2.75372477e-01 -7.87411255e-01  9.27703585e-01\n",
      "  1.51849575e+00 -4.59749276e-01 -8.18870421e-01  3.92698941e-01\n",
      " -5.87872853e-01  2.28783738e+00 -6.94148486e-01  1.42591071e-01\n",
      " -8.90479188e-01 -1.50648700e+00  8.12868159e-01  3.91527363e-01\n",
      "  6.04954655e-01 -1.08533721e-01 -1.05761522e+00 -9.13396031e-01\n",
      " -3.58609256e-01 -1.14501031e+00  9.33772758e-01  4.68973068e-01\n",
      " -1.01361922e+00 -1.43675367e+00  1.84168830e+00  2.88493784e+00\n",
      " -1.66264236e+00 -2.34466129e+00  4.09541332e-01  1.61663446e-01\n",
      "  2.32762583e-01  2.66571979e-01  1.52729849e-01  1.14708022e+00\n",
      " -1.32772925e+00  3.04190838e-01 -1.59811640e+00  6.48310126e-01\n",
      "  1.77494392e-01 -8.53340187e-01 -7.48896498e-01 -9.59002082e-01\n",
      " -1.33731655e-01 -6.74682409e-02 -3.34645408e-01 -4.97443317e-01\n",
      " -1.08925640e-02  1.41753027e-01  1.02493062e+00  1.75453758e+00\n",
      " -1.00623361e-02  1.04169478e+00 -1.34480478e+00 -5.16214421e-01\n",
      " -4.83501301e-02 -6.45564006e-01 -2.99974215e-01  1.83979983e-01\n",
      " -5.12333555e-01  5.05070852e-01 -6.43248282e-01  6.57904135e-01\n",
      " -7.86176254e-01  1.00952780e-02  9.99334971e-02  1.64479413e-01\n",
      "  8.04156964e-01  6.28694931e-01  1.58038067e-01  8.26834666e-01\n",
      "  5.14696824e-01  1.60507706e+00 -2.01938395e-01  8.09538313e-03\n",
      " -9.52925597e-01 -4.20342465e-01  7.73393412e-01  8.65409994e-01\n",
      "  8.52242799e-01  3.47010482e-01 -2.34964846e-01  4.55429567e-01\n",
      "  1.98149145e+00  4.91829219e-02 -1.18506339e+00  1.33910459e+00\n",
      "  1.29484333e-01  5.97296183e-01 -2.22130997e-01 -3.92913238e-02\n",
      " -1.18359386e+00 -6.66690153e-01  3.28431020e-01 -2.24585498e-01\n",
      " -4.97530184e-01 -8.29168075e-01 -6.81345366e-01  8.51593421e-02\n",
      " -8.38111189e-01 -3.91301154e-01 -2.95080235e-01 -1.77845178e+00\n",
      "  4.22589475e-01 -9.38253083e-02 -1.00757243e+00  1.75791479e+00\n",
      " -1.13366390e+00  4.74103760e-02  5.10710049e-01  1.89420696e+00\n",
      " -8.09774416e-01 -7.29921372e-01  9.91069739e-01  1.47541585e-01\n",
      " -4.05819140e-02 -1.97915924e-01  3.71437913e-01 -1.73964594e+00\n",
      " -5.46906209e-01  1.38311210e+00  1.20562431e+00  6.72546930e-01\n",
      " -3.12499933e-01 -3.62566955e-01  1.29610063e+00 -1.01056006e+00\n",
      " -1.40573363e+00  1.97777647e+00  8.36452591e-01 -2.39120463e-01\n",
      " -1.20301704e+00  1.10978703e+00  4.74130888e-01  7.44807485e-01\n",
      "  7.58339633e-02  1.32608335e+00 -6.78591044e-01 -9.00655998e-01\n",
      "  1.37940639e+00  1.19065092e+00  8.62518856e-01 -1.98137025e-01\n",
      "  1.51041370e+00  3.98745760e-01  4.44100599e-01  8.87185093e-01\n",
      "  2.02073144e+00  2.80012912e-01 -6.23731224e-01  1.03005198e-01\n",
      "  2.95640356e-01  1.67658127e+00 -4.13127526e-01  9.59546421e-02\n",
      "  1.68164423e+00  3.94764779e-01 -8.47789408e-01 -2.92416155e-01\n",
      "  6.85932653e-01  2.53221383e-01 -7.99914313e-01  9.57332107e-01\n",
      "  2.55901473e-01  1.40128029e-01 -2.58992794e-02 -1.32220864e-01\n",
      " -1.15387404e+00 -2.91827133e-01 -9.45727206e-01 -4.34891156e-01\n",
      "  3.44075718e-01  1.44164569e+00  1.34682687e+00 -1.22744544e-01\n",
      "  6.78874437e-02 -1.70339947e+00 -5.10280285e-01 -1.29711532e+00\n",
      " -6.86071652e-01 -5.44701844e-01  1.35979545e-01  3.86175563e-01\n",
      "  1.40841325e+00 -1.67453731e+00 -1.07331111e+00  4.39273416e-01\n",
      "  1.02805026e+00  3.15548370e-01  6.64097559e-02  1.33853501e-01\n",
      "  3.75427218e-02  1.77959694e-01 -4.32564603e-01  1.26395878e+00\n",
      " -6.94552844e-01 -2.66327579e-01 -2.05336902e-01  1.27645914e+00\n",
      "  1.68556540e+00 -7.72903709e-01 -1.10271302e-01 -4.34779471e-01\n",
      " -5.18010070e-02 -3.35180124e-01 -1.45830017e+00 -1.65812196e+00\n",
      " -6.39355046e-01  1.44016032e+00 -1.93115562e+00 -4.04819611e-01\n",
      " -1.97470013e+00 -5.03579913e-01  5.01560897e-01 -1.51203185e+00\n",
      "  4.92726218e-01 -1.48707496e+00 -5.08733013e-01 -5.71057180e-01\n",
      " -2.48009941e-01  2.04075769e-01 -1.04124175e+00 -1.48013469e+00\n",
      " -8.95721543e-01 -1.97700792e-03 -6.36059182e-02 -1.23645445e+00\n",
      "  2.10716192e+00  5.34994215e-01 -7.97301717e-01  5.48742820e-01\n",
      " -5.54038700e-01  5.42911292e-01 -5.85834727e-01  1.34047409e-01\n",
      " -1.09639120e+00  9.29307653e-02  1.27511101e+00  2.78696497e-01\n",
      "  1.70976484e-01  3.28300693e-02 -8.58621060e-01  7.26988084e-02\n",
      " -8.03038391e-01  3.65451321e-01  7.15341701e-01 -1.18944404e+00\n",
      "  6.29720688e-01 -3.25921070e-01  9.61094464e-01  1.72314762e-01\n",
      " -1.13945950e+00 -6.75382939e-01 -5.68589434e-01 -1.47623201e+00\n",
      "  1.05492016e+00 -9.54979530e-01 -7.70037917e-01 -7.67852611e-01\n",
      "  9.06679098e-01 -1.88717295e+00  1.29730283e+00  3.04693937e-01\n",
      "  1.00440432e+00  5.87597609e-03 -2.57166545e-01  1.50170441e+00\n",
      " -1.03880108e+00 -8.99158784e-01 -5.06041400e-01 -2.64522031e-01\n",
      " -4.48816140e-01 -9.39204092e-01 -5.91166876e-02 -3.83404475e-01\n",
      " -5.54105408e-01 -8.96019464e-02 -2.16878552e+00  7.67982523e-01\n",
      "  2.06734160e-01  7.49873890e-01  1.13218005e-01 -1.72726241e+00\n",
      " -2.25201707e-01  1.53513008e-02  1.06045946e+00  7.21937933e-01\n",
      " -1.32959962e+00 -4.86998950e-01  1.53703260e+00  1.43987513e+00]\n"
     ]
    }
   ],
   "source": [
    "import plotly.graph_objects as go\n",
    "import plotly.express as px\n",
    "\n",
    "\n",
    "# 1 generate random sample\n",
    "mean = 0\n",
    "std_dev= 1\n",
    "num_sample= 1000\n",
    "\n",
    "# generate random sample from normal distribution\n",
    "samples = np.random.normal(mean , std_dev ,num_sample)\n",
    "\n",
    "print(samples)"
   ]
  },
  {
   "cell_type": "code",
   "execution_count": 11,
   "id": "f68668af-6c51-44cb-90e0-091d9b67b42a",
   "metadata": {},
   "outputs": [
    {
     "name": "stdout",
     "output_type": "stream",
     "text": [
      "-0.021248746878787094\n"
     ]
    }
   ],
   "source": [
    "print(samples.mean())"
   ]
  },
  {
   "cell_type": "code",
   "execution_count": 14,
   "id": "13d06996-edd8-43eb-b8a4-ba155553feb1",
   "metadata": {},
   "outputs": [
    {
     "data": {
      "application/vnd.plotly.v1+json": {
       "config": {
        "plotlyServerURL": "https://plot.ly"
       },
       "data": [
        {
         "bingroup": "x",
         "histnorm": "probability density",
         "hovertemplate": "variable=0<br>Samples=%{x}<br>probability density=%{y}<extra></extra>",
         "legendgroup": "0",
         "marker": {
          "color": "#636efa",
          "opacity": 0.6,
          "pattern": {
           "shape": ""
          }
         },
         "name": "0",
         "nbinsx": 30,
         "orientation": "v",
         "showlegend": true,
         "type": "histogram",
         "x": {
          "bdata": "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",
          "dtype": "f8"
         },
         "xaxis": "x",
         "yaxis": "y"
        },
        {
         "line": {
          "color": "black"
         },
         "mode": "lines",
         "name": "Normal PDF",
         "type": "scatter",
         "x": {
          "bdata": "dS17IAaCB8CrdF8o5wQHwOG7QzDIhwbAFgMoOKkKBsBMSgxAio0FwIKR8EdrEAXAuNjUT0yTBMDuH7lXLRYEwCRnnV8OmQPAWa6BZ+8bA8CP9WVv0J4CwMU8SnexIQLA+4Muf5KkAcAwyxKHcycBwGYS945UqgDAnFnbljUtAMCkQX89LWD/vxDQR03vZf6/e14QXbFr/b/n7Nhsc3H8v1J7oXw1d/u/vglqjPd8+r8qmDKcuYL5v5Um+6t7iPi/AbXDuz2O979tQ4zL/5P2v9jRVNvBmfW/RGAd64Of9L+w7uX6RaXzvxt9rgoIq/K/hwt3Gsqw8b/ymT8qjLbwv7xQEHSceO+/lG2hkyCE7b9sijKzpI/rv0Cnw9Iom+m/GMRU8qym57/w4OURMbLlv8j9djG1veO/oBoIUTnJ4b/objLheqnfv5ioVCCDwNu/SOJ2X4vX17/4G5mek+7Tv6hVu92bBdC/sB67OUg5yL8Akv+3WGfAv8AKiGzSKrG/ABgPkTZveL+AT8w01zmsPwBB3Z3KwL0/MC2q0FSyxj/QuWVSRITOPzijEOoZK9M/iGnuqhEU1z/YL8xrCf3aPyj2qSwB5t4/QN7Ddnxn4T9owTJX+FvjP5CkoTd0UOU/uIcQGPBE5z/gan/4aznpPwxO7tjnLes/NDFduWMi7T9cFMyZ3xbvP8J7Hb2thfA/Vu1Uret/8T/qXoydKXryP37Qw41ndPM/EkL7faVu9D+qszJu42j1Pz4lal4hY/Y/0pahTl9d9z9mCNk+nVf4P/p5EC/bUfk/jutHHxlM+j8iXX8PV0b7P7bOtv+UQPw/SkDu79I6/T/esSXgEDX+P3YjXdBOL/8/hUpKYMYUAEBPA2ZY5ZEAQBm8gVAEDwFA43SdSCOMAUCtLblAQgkCQHfm1DhhhgJAQZ/wMIADA0ALWAwpn4ADQNUQKCG+/QNAn8lDGd16BEBrgl8R/PcEQDU7ewkbdQVA//OWATryBUDJrLL5WG8GQJNlzvF37AZAXR7q6ZZpB0An1wXiteYHQPGPIdrUYwhAvEg90vPgCEA=",
          "dtype": "f8"
         },
         "y": {
          "bdata": "l09f2FnKdT9vJC3t4AZ6P0RF1rmb+H4/50IFXNFbgj9E7epOCa+FP01/JsT/g4k/zAZ2za3pjT9FHzbb83eRP4GiHa6gU5Q/FfKj+3SQlz8k64RjPzebP+h6Sx3qUJ8/2c4JWS3zoT/RqulwJoCkP6K81m6UU6c/3o0llGpxqj9n2vBLQt2tP5MBlUggzbA/Ui9dEn3Vsj+IKZaKqwi1P2zGShc7Z7c//KJSfkjxuT8tcG2McKa8P+8OisXDhb8/F0h9wt1GwT/YFpd6GN7CP71bHiIrh8Q/ISFvOllAxj/EGBoRkAfIP8frBcBn2sk/pbyP6CW2yz+q28o8wpfNPweLAd/se88/sbHCSYuv0D9qAgZavZ7RP5wuVGOVidI/fx+sxg1u0z8p9EarGUrUPzjmxaWsG9U/jNqkt8Lg1T+FKCx8aJfWP/3XGFXDPdc/z1pzZxnS1z/WOq042VLYP8q1Lb2gvtg/4tL1q0MU2T9jV+ru0FLZPyWegwyXedk/Q0L6bSeI2T9lq1FsWH7ZP5X+ohZGXNk/nXuArFEi2T/t5urPH9HYP9CB1nqVadg/6apazNPs1z9OJRrJMlzXP7S0/DA7udY/1gvBkZ8F1j+KGhfCNEPVP319uvPpc9Q/KapcjMCZ0z+3xhX1w7bSP7DBlo4BzdE/1oeQ9YDe0D80Ga99edrPPzuVy5s39s0/PtpoxdYTzD+9B2XrszbKPx0VNeTlYcg/JqmfsDaYxj89Du6WHtzEP77OuQ7BL8M/oS1DbOuUwT80p1EwFQ3AP7PFeLLDMr0/ZGsGFkh1uj9et9q+w+K3PxIu51e0e7U/uOeDExVAsz/LgnvYay+xPyhlOVCuka4/XT3nvTgWqz+UQwjza+mnP+DdYB/DB6U/v27bh1ptoj9mQxrdCBagP0m+E2Pt+ps/oGejmWc+mD83ai1glO2UP0sKMmWd/5E/zhV0wbzXjj/r8OJR+VOKPzIuXlj0Y4Y/ydTqKIj4gj8168TSegOAP+okd0YY73o/qE/ccfqQdj/duAkAJdZyP9ICq8BDVG8/Emsofd30aT8=",
          "dtype": "f8"
         }
        }
       ],
       "layout": {
        "bargap": 0.2,
        "barmode": "relative",
        "legend": {
         "title": {
          "text": "variable"
         },
         "tracegroupgap": 0
        },
        "template": {
         "data": {
          "bar": [
           {
            "error_x": {
             "color": "#2a3f5f"
            },
            "error_y": {
             "color": "#2a3f5f"
            },
            "marker": {
             "line": {
              "color": "#E5ECF6",
              "width": 0.5
             },
             "pattern": {
              "fillmode": "overlay",
              "size": 10,
              "solidity": 0.2
             }
            },
            "type": "bar"
           }
          ],
          "barpolar": [
           {
            "marker": {
             "line": {
              "color": "#E5ECF6",
              "width": 0.5
             },
             "pattern": {
              "fillmode": "overlay",
              "size": 10,
              "solidity": 0.2
             }
            },
            "type": "barpolar"
           }
          ],
          "carpet": [
           {
            "aaxis": {
             "endlinecolor": "#2a3f5f",
             "gridcolor": "white",
             "linecolor": "white",
             "minorgridcolor": "white",
             "startlinecolor": "#2a3f5f"
            },
            "baxis": {
             "endlinecolor": "#2a3f5f",
             "gridcolor": "white",
             "linecolor": "white",
             "minorgridcolor": "white",
             "startlinecolor": "#2a3f5f"
            },
            "type": "carpet"
           }
          ],
          "choropleth": [
           {
            "colorbar": {
             "outlinewidth": 0,
             "ticks": ""
            },
            "type": "choropleth"
           }
          ],
          "contour": [
           {
            "colorbar": {
             "outlinewidth": 0,
             "ticks": ""
            },
            "colorscale": [
             [
              0,
              "#0d0887"
             ],
             [
              0.1111111111111111,
              "#46039f"
             ],
             [
              0.2222222222222222,
              "#7201a8"
             ],
             [
              0.3333333333333333,
              "#9c179e"
             ],
             [
              0.4444444444444444,
              "#bd3786"
             ],
             [
              0.5555555555555556,
              "#d8576b"
             ],
             [
              0.6666666666666666,
              "#ed7953"
             ],
             [
              0.7777777777777778,
              "#fb9f3a"
             ],
             [
              0.8888888888888888,
              "#fdca26"
             ],
             [
              1,
              "#f0f921"
             ]
            ],
            "type": "contour"
           }
          ],
          "contourcarpet": [
           {
            "colorbar": {
             "outlinewidth": 0,
             "ticks": ""
            },
            "type": "contourcarpet"
           }
          ],
          "heatmap": [
           {
            "colorbar": {
             "outlinewidth": 0,
             "ticks": ""
            },
            "colorscale": [
             [
              0,
              "#0d0887"
             ],
             [
              0.1111111111111111,
              "#46039f"
             ],
             [
              0.2222222222222222,
              "#7201a8"
             ],
             [
              0.3333333333333333,
              "#9c179e"
             ],
             [
              0.4444444444444444,
              "#bd3786"
             ],
             [
              0.5555555555555556,
              "#d8576b"
             ],
             [
              0.6666666666666666,
              "#ed7953"
             ],
             [
              0.7777777777777778,
              "#fb9f3a"
             ],
             [
              0.8888888888888888,
              "#fdca26"
             ],
             [
              1,
              "#f0f921"
             ]
            ],
            "type": "heatmap"
           }
          ],
          "histogram": [
           {
            "marker": {
             "pattern": {
              "fillmode": "overlay",
              "size": 10,
              "solidity": 0.2
             }
            },
            "type": "histogram"
           }
          ],
          "histogram2d": [
           {
            "colorbar": {
             "outlinewidth": 0,
             "ticks": ""
            },
            "colorscale": [
             [
              0,
              "#0d0887"
             ],
             [
              0.1111111111111111,
              "#46039f"
             ],
             [
              0.2222222222222222,
              "#7201a8"
             ],
             [
              0.3333333333333333,
              "#9c179e"
             ],
             [
              0.4444444444444444,
              "#bd3786"
             ],
             [
              0.5555555555555556,
              "#d8576b"
             ],
             [
              0.6666666666666666,
              "#ed7953"
             ],
             [
              0.7777777777777778,
              "#fb9f3a"
             ],
             [
              0.8888888888888888,
              "#fdca26"
             ],
             [
              1,
              "#f0f921"
             ]
            ],
            "type": "histogram2d"
           }
          ],
          "histogram2dcontour": [
           {
            "colorbar": {
             "outlinewidth": 0,
             "ticks": ""
            },
            "colorscale": [
             [
              0,
              "#0d0887"
             ],
             [
              0.1111111111111111,
              "#46039f"
             ],
             [
              0.2222222222222222,
              "#7201a8"
             ],
             [
              0.3333333333333333,
              "#9c179e"
             ],
             [
              0.4444444444444444,
              "#bd3786"
             ],
             [
              0.5555555555555556,
              "#d8576b"
             ],
             [
              0.6666666666666666,
              "#ed7953"
             ],
             [
              0.7777777777777778,
              "#fb9f3a"
             ],
             [
              0.8888888888888888,
              "#fdca26"
             ],
             [
              1,
              "#f0f921"
             ]
            ],
            "type": "histogram2dcontour"
           }
          ],
          "mesh3d": [
           {
            "colorbar": {
             "outlinewidth": 0,
             "ticks": ""
            },
            "type": "mesh3d"
           }
          ],
          "parcoords": [
           {
            "line": {
             "colorbar": {
              "outlinewidth": 0,
              "ticks": ""
             }
            },
            "type": "parcoords"
           }
          ],
          "pie": [
           {
            "automargin": true,
            "type": "pie"
           }
          ],
          "scatter": [
           {
            "fillpattern": {
             "fillmode": "overlay",
             "size": 10,
             "solidity": 0.2
            },
            "type": "scatter"
           }
          ],
          "scatter3d": [
           {
            "line": {
             "colorbar": {
              "outlinewidth": 0,
              "ticks": ""
             }
            },
            "marker": {
             "colorbar": {
              "outlinewidth": 0,
              "ticks": ""
             }
            },
            "type": "scatter3d"
           }
          ],
          "scattercarpet": [
           {
            "marker": {
             "colorbar": {
              "outlinewidth": 0,
              "ticks": ""
             }
            },
            "type": "scattercarpet"
           }
          ],
          "scattergeo": [
           {
            "marker": {
             "colorbar": {
              "outlinewidth": 0,
              "ticks": ""
             }
            },
            "type": "scattergeo"
           }
          ],
          "scattergl": [
           {
            "marker": {
             "colorbar": {
              "outlinewidth": 0,
              "ticks": ""
             }
            },
            "type": "scattergl"
           }
          ],
          "scattermap": [
           {
            "marker": {
             "colorbar": {
              "outlinewidth": 0,
              "ticks": ""
             }
            },
            "type": "scattermap"
           }
          ],
          "scattermapbox": [
           {
            "marker": {
             "colorbar": {
              "outlinewidth": 0,
              "ticks": ""
             }
            },
            "type": "scattermapbox"
           }
          ],
          "scatterpolar": [
           {
            "marker": {
             "colorbar": {
              "outlinewidth": 0,
              "ticks": ""
             }
            },
            "type": "scatterpolar"
           }
          ],
          "scatterpolargl": [
           {
            "marker": {
             "colorbar": {
              "outlinewidth": 0,
              "ticks": ""
             }
            },
            "type": "scatterpolargl"
           }
          ],
          "scatterternary": [
           {
            "marker": {
             "colorbar": {
              "outlinewidth": 0,
              "ticks": ""
             }
            },
            "type": "scatterternary"
           }
          ],
          "surface": [
           {
            "colorbar": {
             "outlinewidth": 0,
             "ticks": ""
            },
            "colorscale": [
             [
              0,
              "#0d0887"
             ],
             [
              0.1111111111111111,
              "#46039f"
             ],
             [
              0.2222222222222222,
              "#7201a8"
             ],
             [
              0.3333333333333333,
              "#9c179e"
             ],
             [
              0.4444444444444444,
              "#bd3786"
             ],
             [
              0.5555555555555556,
              "#d8576b"
             ],
             [
              0.6666666666666666,
              "#ed7953"
             ],
             [
              0.7777777777777778,
              "#fb9f3a"
             ],
             [
              0.8888888888888888,
              "#fdca26"
             ],
             [
              1,
              "#f0f921"
             ]
            ],
            "type": "surface"
           }
          ],
          "table": [
           {
            "cells": {
             "fill": {
              "color": "#EBF0F8"
             },
             "line": {
              "color": "white"
             }
            },
            "header": {
             "fill": {
              "color": "#C8D4E3"
             },
             "line": {
              "color": "white"
             }
            },
            "type": "table"
           }
          ]
         },
         "layout": {
          "annotationdefaults": {
           "arrowcolor": "#2a3f5f",
           "arrowhead": 0,
           "arrowwidth": 1
          },
          "autotypenumbers": "strict",
          "coloraxis": {
           "colorbar": {
            "outlinewidth": 0,
            "ticks": ""
           }
          },
          "colorscale": {
           "diverging": [
            [
             0,
             "#8e0152"
            ],
            [
             0.1,
             "#c51b7d"
            ],
            [
             0.2,
             "#de77ae"
            ],
            [
             0.3,
             "#f1b6da"
            ],
            [
             0.4,
             "#fde0ef"
            ],
            [
             0.5,
             "#f7f7f7"
            ],
            [
             0.6,
             "#e6f5d0"
            ],
            [
             0.7,
             "#b8e186"
            ],
            [
             0.8,
             "#7fbc41"
            ],
            [
             0.9,
             "#4d9221"
            ],
            [
             1,
             "#276419"
            ]
           ],
           "sequential": [
            [
             0,
             "#0d0887"
            ],
            [
             0.1111111111111111,
             "#46039f"
            ],
            [
             0.2222222222222222,
             "#7201a8"
            ],
            [
             0.3333333333333333,
             "#9c179e"
            ],
            [
             0.4444444444444444,
             "#bd3786"
            ],
            [
             0.5555555555555556,
             "#d8576b"
            ],
            [
             0.6666666666666666,
             "#ed7953"
            ],
            [
             0.7777777777777778,
             "#fb9f3a"
            ],
            [
             0.8888888888888888,
             "#fdca26"
            ],
            [
             1,
             "#f0f921"
            ]
           ],
           "sequentialminus": [
            [
             0,
             "#0d0887"
            ],
            [
             0.1111111111111111,
             "#46039f"
            ],
            [
             0.2222222222222222,
             "#7201a8"
            ],
            [
             0.3333333333333333,
             "#9c179e"
            ],
            [
             0.4444444444444444,
             "#bd3786"
            ],
            [
             0.5555555555555556,
             "#d8576b"
            ],
            [
             0.6666666666666666,
             "#ed7953"
            ],
            [
             0.7777777777777778,
             "#fb9f3a"
            ],
            [
             0.8888888888888888,
             "#fdca26"
            ],
            [
             1,
             "#f0f921"
            ]
           ]
          },
          "colorway": [
           "#636efa",
           "#EF553B",
           "#00cc96",
           "#ab63fa",
           "#FFA15A",
           "#19d3f3",
           "#FF6692",
           "#B6E880",
           "#FF97FF",
           "#FECB52"
          ],
          "font": {
           "color": "#2a3f5f"
          },
          "geo": {
           "bgcolor": "white",
           "lakecolor": "white",
           "landcolor": "#E5ECF6",
           "showlakes": true,
           "showland": true,
           "subunitcolor": "white"
          },
          "hoverlabel": {
           "align": "left"
          },
          "hovermode": "closest",
          "mapbox": {
           "style": "light"
          },
          "paper_bgcolor": "white",
          "plot_bgcolor": "#E5ECF6",
          "polar": {
           "angularaxis": {
            "gridcolor": "white",
            "linecolor": "white",
            "ticks": ""
           },
           "bgcolor": "#E5ECF6",
           "radialaxis": {
            "gridcolor": "white",
            "linecolor": "white",
            "ticks": ""
           }
          },
          "scene": {
           "xaxis": {
            "backgroundcolor": "#E5ECF6",
            "gridcolor": "white",
            "gridwidth": 2,
            "linecolor": "white",
            "showbackground": true,
            "ticks": "",
            "zerolinecolor": "white"
           },
           "yaxis": {
            "backgroundcolor": "#E5ECF6",
            "gridcolor": "white",
            "gridwidth": 2,
            "linecolor": "white",
            "showbackground": true,
            "ticks": "",
            "zerolinecolor": "white"
           },
           "zaxis": {
            "backgroundcolor": "#E5ECF6",
            "gridcolor": "white",
            "gridwidth": 2,
            "linecolor": "white",
            "showbackground": true,
            "ticks": "",
            "zerolinecolor": "white"
           }
          },
          "shapedefaults": {
           "line": {
            "color": "#2a3f5f"
           }
          },
          "ternary": {
           "aaxis": {
            "gridcolor": "white",
            "linecolor": "white",
            "ticks": ""
           },
           "baxis": {
            "gridcolor": "white",
            "linecolor": "white",
            "ticks": ""
           },
           "bgcolor": "#E5ECF6",
           "caxis": {
            "gridcolor": "white",
            "linecolor": "white",
            "ticks": ""
           }
          },
          "title": {
           "x": 0.05
          },
          "xaxis": {
           "automargin": true,
           "gridcolor": "white",
           "linecolor": "white",
           "ticks": "",
           "title": {
            "standoff": 15
           },
           "zerolinecolor": "white",
           "zerolinewidth": 2
          },
          "yaxis": {
           "automargin": true,
           "gridcolor": "white",
           "linecolor": "white",
           "ticks": "",
           "title": {
            "standoff": 15
           },
           "zerolinecolor": "white",
           "zerolinewidth": 2
          }
         }
        },
        "title": {
         "text": "Histogram and PDF of Normally Distribured Samples"
        },
        "xaxis": {
         "anchor": "y",
         "domain": [
          0,
          1
         ],
         "title": {
          "text": "value"
         }
        },
        "yaxis": {
         "anchor": "x",
         "domain": [
          0,
          1
         ],
         "title": {
          "text": "Probability Density"
         }
        }
       }
      },
      "image/png": "[encoded data removed]"
     },
     "metadata": {},
     "output_type": "display_data"
    }
   ],
   "source": [
    "# create a Histogram with Plotly\n",
    "\n",
    "fig = px.histogram(samples , nbins = 30 , title = \"Histogram of Normally Distributed Samples\",\n",
    "                   labels = {'value':'Samples','count':'Frequency'}, opacity = 0.6 ,histnorm = 'probability density')\n",
    "\n",
    "# step 3 add the pdf of normal distribution\n",
    "xmin , xmax = min(samples) , max(samples)\n",
    "x = np.linspace(xmin , xmax,100)\n",
    "p = np.exp(-((x-mean)**2)/(2*std_dev**2))/(np.sqrt(2*np.pi)*std_dev)\n",
    "\n",
    "#create a line trace for pdf\n",
    "pdf_trace = go.Scatter( x=x , y=p,mode = 'lines',name = 'Normal PDF' ,line = dict(color = 'black'))\n",
    "\n",
    "# add a trace \n",
    "fig.add_trace(pdf_trace)\n",
    "\n",
    "fig.update_layout(\n",
    "    xaxis_title ='value',\n",
    "    yaxis_title = 'Probability Density',\n",
    "    title = 'Histogram and PDF of Normally Distribured Samples',\n",
    "    bargap = 0.2\n",
    ")\n",
    "\n",
    "fig.show()"
   ]
  },
  {
   "cell_type": "markdown",
   "id": "41fd47c4-4c20-4fb0-b93d-24653518fbe2",
   "metadata": {},
   "source": [
    "## Broadcasting"
   ]
  },
  {
   "cell_type": "raw",
   "id": "fb98ebef-ef92-47e2-b270-5ec6903dc316",
   "metadata": {},
   "source": [
    "staring with the trailing axis and worked backward , Numpy compares arrays for dimensions - "
   ]
  },
  {
   "cell_type": "raw",
   "id": "cc811265-076b-43df-990c-f2ddd2960b35",
   "metadata": {},
   "source": [
    ">> if two dimensions are equal then continue.\n",
    ">> if one of the opearnd has dimension 1 streaches it to match the largest one."
   ]
  },
  {
   "cell_type": "code",
   "execution_count": 15,
   "id": "add3af59-8efd-4ba6-a6af-482be445984e",
   "metadata": {},
   "outputs": [
    {
     "name": "stdout",
     "output_type": "stream",
     "text": [
      "[12 17 22]\n"
     ]
    }
   ],
   "source": [
    "tea_prices = np.array([10,15,20])\n",
    "tax = 2\n",
    "\n",
    "total_price = tea_prices + tax\n",
    "print(total_price)"
   ]
  },
  {
   "cell_type": "code",
   "execution_count": 17,
   "id": "a24faa92-500d-4c0a-a009-665f0482aae4",
   "metadata": {},
   "outputs": [
    {
     "name": "stdout",
     "output_type": "stream",
     "text": [
      "[[ 90 100]\n",
      " [ 70  70]\n",
      " [ 50  55]]\n"
     ]
    }
   ],
   "source": [
    "# 3 producrs (row) and 2 shops(columns)\n",
    "\n",
    "prices = np.array([\n",
    "    [100,120],\n",
    "    [80,90],\n",
    "    [60,75]\n",
    "])\n",
    "\n",
    "# Discount for eaxh shop\n",
    "discount = np.array([10,20])\n",
    "final_price = prices - discount # Broadcasting column-wise\n",
    "print(final_price)"
   ]
  },
  {
   "cell_type": "code",
   "execution_count": 18,
   "id": "912e0a89-6726-4911-bd8f-db2347c88d79",
   "metadata": {},
   "outputs": [
    {
     "name": "stdout",
     "output_type": "stream",
     "text": [
      "[[ 0  0  0]\n",
      " [10 10 10]\n",
      " [20 20 20]\n",
      " [30 30 30]] <class 'numpy.ndarray'>\n",
      "\n",
      "[0 1 2] <class 'numpy.ndarray'>\n",
      "\n",
      "[[ 0  1  2]\n",
      " [10 11 12]\n",
      " [20 21 22]\n",
      " [30 31 32]]\n"
     ]
    }
   ],
   "source": [
    "a = np.array([[0,0,0],\n",
    "              [10,10,10],\n",
    "              [20,20,20],\n",
    "              [30,30,30]])\n",
    "print(a , type(a))\n",
    "print()\n",
    "b = np.array([0,1,2])\n",
    "print(b,type(b))\n",
    "print()\n",
    "\n",
    "result = a+b\n",
    "print(result)"
   ]
  },
  {
   "cell_type": "markdown",
   "id": "43d6a159-5f00-4739-b5d4-f91549a15976",
   "metadata": {},
   "source": [
    "## Searching"
   ]
  },
  {
   "cell_type": "markdown",
   "id": "5e7377fa-85e8-4eec-b9fc-9f783be37caa",
   "metadata": {},
   "source": [
    "numpy.where()"
   ]
  },
  {
   "cell_type": "markdown",
   "id": "12d8d1da-5434-4700-b959-58aceb532ca0",
   "metadata": {},
   "source": [
    ">> numpy.where() : it returns the indices of elements in an input array where the given condition is satisfied.\n",
    "numpy.where(condition[,x,y])"
   ]
  },
  {
   "cell_type": "code",
   "execution_count": 19,
   "id": "f3e51416-7f4d-4eb8-a78f-d96622e9a5ca",
   "metadata": {},
   "outputs": [
    {
     "name": "stdout",
     "output_type": "stream",
     "text": [
      "[10 20 30 50 40 61 67 41] <class 'numpy.ndarray'>\n",
      "i = (array([2]),)\n"
     ]
    }
   ],
   "source": [
    "# creating an array\n",
    "arr = np.array([10,20,30,50,40,61,67,41])\n",
    "print(arr,type(arr))\n",
    "\n",
    "i = np.where(arr == 30)\n",
    "print(\"i = {}\".format(i))"
   ]
  }
 ],
 "metadata": {
  "kernelspec": {
   "display_name": "Python 3 (ipykernel)",
   "language": "python",
   "name": "python3"
  },
  "language_info": {
   "codemirror_mode": {
    "name": "ipython",
    "version": 3
   },
   "file_extension": ".py",
   "mimetype": "text/x-python",
   "name": "python",
   "nbconvert_exporter": "python",
   "pygments_lexer": "ipython3",
   "version": "3.13.3"
  }
 },
 "nbformat": 4,
 "nbformat_minor": 5
}
