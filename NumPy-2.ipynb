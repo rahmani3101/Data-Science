{
 "cells": [
  {
   "cell_type": "markdown",
   "id": "4b8a26c6-e0c1-4bf6-a470-9eef121e81ca",
   "metadata": {},
   "source": [
    "### ReShaping"
   ]
  },
  {
   "cell_type": "code",
   "execution_count": 1,
   "id": "c0332f04-eacc-4bd4-a022-121260a470de",
   "metadata": {},
   "outputs": [],
   "source": [
    "import numpy as np"
   ]
  },
  {
   "cell_type": "code",
   "execution_count": 2,
   "id": "bb064a98-fcf5-4ad7-99dc-47c3e08bc4cc",
   "metadata": {},
   "outputs": [
    {
     "name": "stdout",
     "output_type": "stream",
     "text": [
      "[[1 2 3]\n",
      " [4 5 6]]\n"
     ]
    }
   ],
   "source": [
    "arr = np.array([1,2,3,4,5,6,7])\n",
    "arr.resize(2,3)\n",
    "print(arr)"
   ]
  },
  {
   "cell_type": "code",
   "execution_count": 3,
   "id": "759d3ba8-8a3e-4f96-8112-2f4b7c35ee4d",
   "metadata": {},
   "outputs": [],
   "source": [
    "f = arr.flatten()"
   ]
  },
  {
   "cell_type": "code",
   "execution_count": 4,
   "id": "7481001a-cb2d-4164-98a4-b5e95f5e6239",
   "metadata": {},
   "outputs": [
    {
     "data": {
      "text/plain": [
       "array([1, 2, 3, 4, 5, 6])"
      ]
     },
     "execution_count": 4,
     "metadata": {},
     "output_type": "execute_result"
    }
   ],
   "source": [
    "f"
   ]
  },
  {
   "cell_type": "code",
   "execution_count": 5,
   "id": "77673f22-84ec-46aa-9a3d-f9c09fba1e7b",
   "metadata": {},
   "outputs": [
    {
     "name": "stdout",
     "output_type": "stream",
     "text": [
      "[ True  True  True False False False]\n",
      "[False False False  True  True  True]\n"
     ]
    }
   ],
   "source": [
    "arr = np.array([1,2,3,4,5,6])\n",
    "# applying numpy.__lt__() method\n",
    "print(arr.__lt__(4))\n",
    "print(arr.__gt__(3))"
   ]
  },
  {
   "cell_type": "code",
   "execution_count": 6,
   "id": "7fc9aa07-50e7-4b4d-91da-f13685f70bb7",
   "metadata": {},
   "outputs": [
    {
     "name": "stdout",
     "output_type": "stream",
     "text": [
      "[-1  2 -3 -4 -5 -6]\n"
     ]
    }
   ],
   "source": [
    "arr1 = np.array([1,-2,3,4,5,6])\n",
    "print(arr1.__neg__())"
   ]
  },
  {
   "cell_type": "code",
   "execution_count": 7,
   "id": "97478d3e-c2af-4906-a5d9-38ede32226b7",
   "metadata": {},
   "outputs": [
    {
     "name": "stdout",
     "output_type": "stream",
     "text": [
      "[1 2 3 3 3 3]\n"
     ]
    }
   ],
   "source": [
    "print(np.clip(arr,0,3))"
   ]
  },
  {
   "cell_type": "code",
   "execution_count": 8,
   "id": "18655089-db15-469d-bdff-c87f79ec5014",
   "metadata": {},
   "outputs": [
    {
     "name": "stdout",
     "output_type": "stream",
     "text": [
      "[1 2 3 4 4 4]\n"
     ]
    }
   ],
   "source": [
    "print(np.clip(arr,0,4))"
   ]
  },
  {
   "cell_type": "code",
   "execution_count": 9,
   "id": "f8dedca5-c3d9-4bf4-b1dc-a4ceecadd75c",
   "metadata": {},
   "outputs": [
    {
     "name": "stdout",
     "output_type": "stream",
     "text": [
      "[0, 1, 2, 3, 4] <class 'int'> <class 'list'>\n",
      "[0 1 2 3 4] int64 <class 'numpy.ndarray'>\n",
      "[0. 1. 2. 3. 4.] float64 <class 'numpy.ndarray'>\n"
     ]
    }
   ],
   "source": [
    "# arrange is like a range , except it returns an array (but not a list)\n",
    "int_list = list(range(5))\n",
    "print(int_list , type(int_list[0]), type(int_list))\n",
    "\n",
    "int_array=np.arange(5)\n",
    "print(int_array , int_array.dtype,type(int_array))\n",
    "\n",
    "float_array = int_array.astype(float)\n",
    "print(float_array , float_array.dtype , type(float_array))"
   ]
  },
  {
   "cell_type": "code",
   "execution_count": 10,
   "id": "800a758d-d288-44c6-ad2a-31cab94f812a",
   "metadata": {},
   "outputs": [
    {
     "name": "stdout",
     "output_type": "stream",
     "text": [
      "[0. 1. 2. 3. 4. 5. 6. 7. 8. 9.] float64 <class 'numpy.ndarray'> (10,)\n"
     ]
    }
   ],
   "source": [
    "matrix = np.arange(10,dtype = float)\n",
    "print(matrix , matrix.dtype , type(matrix) , matrix.shape)"
   ]
  },
  {
   "cell_type": "code",
   "execution_count": 11,
   "id": "f27e974d-57c5-4b55-9152-4785b860830d",
   "metadata": {},
   "outputs": [
    {
     "name": "stdout",
     "output_type": "stream",
     "text": [
      "[[0. 1. 2. 3. 4.]\n",
      " [5. 6. 7. 8. 9.]] float64 <class 'numpy.ndarray'> (2, 5)\n"
     ]
    }
   ],
   "source": [
    "matrix = matrix.reshape(2,5)\n",
    "print(matrix , matrix.dtype , type(matrix) , matrix.shape)"
   ]
  },
  {
   "cell_type": "code",
   "execution_count": 12,
   "id": "6b49ffec-02c4-42b7-9feb-809056892620",
   "metadata": {},
   "outputs": [
    {
     "name": "stdout",
     "output_type": "stream",
     "text": [
      "[[1. 0. 0.]\n",
      " [0. 1. 0.]\n",
      " [0. 0. 1.]]\n"
     ]
    }
   ],
   "source": [
    "# To create an identity matrix\n",
    "a = np.identity(3)\n",
    "print(a)"
   ]
  },
  {
   "cell_type": "code",
   "execution_count": 13,
   "id": "ae07457d-b491-453b-958e-94fac898d5c0",
   "metadata": {},
   "outputs": [
    {
     "name": "stdout",
     "output_type": "stream",
     "text": [
      "[[1. 0. 0.]\n",
      " [0. 1. 0.]\n",
      " [0. 0. 1.]]\n"
     ]
    }
   ],
   "source": [
    "b = np.eye(3)  # identity matrix\n",
    "print(b)"
   ]
  },
  {
   "cell_type": "code",
   "execution_count": 14,
   "id": "107e4d07-6db4-4954-ab18-073b64f87a05",
   "metadata": {},
   "outputs": [
    {
     "name": "stdout",
     "output_type": "stream",
     "text": [
      "[1 2 3 4]\n"
     ]
    }
   ],
   "source": [
    "# Tuple to ndarray\n",
    "tuple1 = (1,2,3,4)\n",
    "ar = np.asarray(tuple1)\n",
    "print(ar)"
   ]
  },
  {
   "cell_type": "code",
   "execution_count": 15,
   "id": "f63a0d5f-5b8f-4712-93d1-6d73a6b52493",
   "metadata": {},
   "outputs": [
    {
     "name": "stdout",
     "output_type": "stream",
     "text": [
      "[[1 1 1 1]\n",
      " [1 1 1 1]\n",
      " [1 1 1 1]]\n",
      "[[ True  True  True  True]\n",
      " [ True  True  True  True]\n",
      " [ True  True  True  True]]\n"
     ]
    }
   ],
   "source": [
    "# To change the types\n",
    "mx_ls = np.ones((3,4),dtype = int)\n",
    "print(mx_ls)\n",
    "mx_ls = np.ones((3,4),dtype = bool)\n",
    "print(mx_ls)"
   ]
  },
  {
   "cell_type": "markdown",
   "id": "b178c299-d444-401b-98a8-2e800f1e0798",
   "metadata": {},
   "source": [
    "### Selection"
   ]
  },
  {
   "cell_type": "code",
   "execution_count": 16,
   "id": "1af13ad8-5247-4056-8ee5-6f2d70801454",
   "metadata": {},
   "outputs": [
    {
     "name": "stdout",
     "output_type": "stream",
     "text": [
      "[1 2 3 4 5] <class 'numpy.ndarray'> int64 (5,)\n",
      "1 1\n"
     ]
    }
   ],
   "source": [
    "data1 = [1,2,3,4,5]\n",
    "arr1 = np.array(data1)\n",
    "print(arr1 , type(arr1) , arr1.dtype , arr1.shape)\n",
    "print(arr1[0],arr1[-5])"
   ]
  },
  {
   "cell_type": "code",
   "execution_count": 17,
   "id": "0d472be5-e041-4f58-a20c-191d64bb8c49",
   "metadata": {},
   "outputs": [
    {
     "name": "stdout",
     "output_type": "stream",
     "text": [
      "5 5\n",
      "[3 4 5] [1 2 3]\n"
     ]
    }
   ],
   "source": [
    "print(arr1[4],arr1[-1])\n",
    "print(arr1[2:],arr1[:3])"
   ]
  },
  {
   "cell_type": "code",
   "execution_count": 18,
   "id": "2a7961d3-4aee-40e8-aa7e-db73c81d3182",
   "metadata": {},
   "outputs": [
    {
     "name": "stdout",
     "output_type": "stream",
     "text": [
      "50\n",
      "50\n"
     ]
    }
   ],
   "source": [
    "import math\n",
    "print(math.gcd(100,750))\n",
    "\n",
    "# using numpy\n",
    "print(np.gcd(100,750))"
   ]
  },
  {
   "cell_type": "code",
   "execution_count": 19,
   "id": "4806579e-6bdc-4305-86c7-2bb89911f7df",
   "metadata": {},
   "outputs": [
    {
     "name": "stdout",
     "output_type": "stream",
     "text": [
      "200\n"
     ]
    }
   ],
   "source": [
    "# Finding LCM\n",
    "print(math.lcm(100,200))"
   ]
  },
  {
   "cell_type": "code",
   "execution_count": 20,
   "id": "135d55a4-6a51-4b5d-93bf-33ff71f8f43c",
   "metadata": {},
   "outputs": [
    {
     "name": "stdout",
     "output_type": "stream",
     "text": [
      "18\n"
     ]
    }
   ],
   "source": [
    "arr = np.array([3,6,9])\n",
    "x = np.lcm.reduce(arr)\n",
    "print(x)"
   ]
  },
  {
   "cell_type": "markdown",
   "id": "3ee4ebdc-117d-48a0-b71c-b0394c629aab",
   "metadata": {},
   "source": [
    "## Views and Copies"
   ]
  },
  {
   "cell_type": "code",
   "execution_count": 21,
   "id": "c0b49b64-943f-417a-925c-41cdacf68c90",
   "metadata": {},
   "outputs": [
    {
     "name": "stdout",
     "output_type": "stream",
     "text": [
      "[0 1 2 3 4 5 6 7 8 9] <class 'numpy.ndarray'> int64 (10,)\n",
      "[5 6 7]\n",
      "[ 0  1  2  3  4 12 12 12  8  9]\n",
      "[12 12 12] <class 'numpy.ndarray'> int64 (3,)\n",
      "\n",
      "[13 13 13]\n",
      "[ 0  1  2  3  4 13 13 13  8  9]\n",
      "\n",
      "[13 13 13] <class 'numpy.ndarray'> int64 (3,)\n"
     ]
    }
   ],
   "source": [
    "arr = np.arange(10)\n",
    "print(arr , type(arr),arr.dtype , arr.shape)\n",
    "print(arr[5:8])\n",
    "arr[5:8] = 12\n",
    "print(arr)\n",
    "arr_view = arr[5:8]   # creates a view of arr , not a copy\n",
    "print(arr_view , type(arr_view) , arr_view.dtype , arr_view.shape)\n",
    "print()\n",
    "\n",
    "arr_view[:] = 13\n",
    "print(arr_view)\n",
    "print(arr)\n",
    "print()\n",
    "\n",
    "arr_copy = arr[5:8].copy()  # create a copy of array\n",
    "print(arr_copy , type(arr_copy) , arr_copy.dtype,arr_copy.shape)"
   ]
  },
  {
   "cell_type": "code",
   "execution_count": 22,
   "id": "b799f4e0-5cf0-4df7-be87-ef26113fad80",
   "metadata": {},
   "outputs": [
    {
     "name": "stdout",
     "output_type": "stream",
     "text": [
      "[1 2 3 4 5 6 7 8 9]\n",
      "[False False False False False  True  True  True  True]\n",
      "[6 7 8 9]\n"
     ]
    }
   ],
   "source": [
    "arr = np.array([1,2,3,4,5,6,7,8,9])\n",
    "print(arr)\n",
    "print(arr>5)\n",
    "print(arr[arr>5])"
   ]
  },
  {
   "cell_type": "code",
   "execution_count": 23,
   "id": "4d7a505d-906f-4017-9611-7646054e7f10",
   "metadata": {},
   "outputs": [
    {
     "name": "stdout",
     "output_type": "stream",
     "text": [
      "[False  True False  True False  True False  True False]\n",
      "[2 4 6 8]\n"
     ]
    }
   ],
   "source": [
    "print(arr % 2 == 0)\n",
    "print(arr[arr%2 ==0])"
   ]
  },
  {
   "cell_type": "code",
   "execution_count": 24,
   "id": "62c85424-e044-48e4-9518-cf7f9c2b519c",
   "metadata": {},
   "outputs": [
    {
     "name": "stdout",
     "output_type": "stream",
     "text": [
      "['Sree' 'Asad' 'Ritu' 'Rituraj' 'sana' 'arijit' 'anwesha' 'sneha']\n"
     ]
    }
   ],
   "source": [
    "names = np.array(['Sree','Asad','Ritu','Rituraj','sana','arijit','anwesha','sneha'])\n",
    "print(names)"
   ]
  },
  {
   "cell_type": "code",
   "execution_count": 25,
   "id": "78f90a9e-c60b-4237-95ad-818e181447a4",
   "metadata": {},
   "outputs": [
    {
     "name": "stdout",
     "output_type": "stream",
     "text": [
      "[False  True False False False False False False]\n"
     ]
    }
   ],
   "source": [
    "print(names == 'Asad')"
   ]
  },
  {
   "cell_type": "code",
   "execution_count": 26,
   "id": "e8f40c81-7fc8-4ff9-baf3-42e1e3bc1d51",
   "metadata": {},
   "outputs": [
    {
     "name": "stdout",
     "output_type": "stream",
     "text": [
      "['Asad']\n",
      "['Sree' 'Ritu' 'Rituraj' 'sana' 'arijit' 'anwesha' 'sneha']\n",
      "['Asad' 'sana']\n",
      "['sana' 'Asad' 'sana' 'sana' 'sana' 'sana' 'sana' 'sana']\n",
      "['Asad' 'sana']\n"
     ]
    }
   ],
   "source": [
    "print(names[names == 'Asad'])\n",
    "print(names[names != 'Asad'])\n",
    "print(names[(names == 'Asad')| (names == 'sana')])\n",
    "names[names != 'Asad'] = 'sana'\n",
    "print(names)\n",
    "print(np.unique(names))"
   ]
  },
  {
   "cell_type": "markdown",
   "id": "2b9c944c-ab0b-4ec1-a18a-eaed59b554f2",
   "metadata": {},
   "source": [
    "## Vectorized Operations"
   ]
  },
  {
   "cell_type": "code",
   "execution_count": 27,
   "id": "c30099ad-77dd-49ab-b9df-dc10342b8300",
   "metadata": {},
   "outputs": [
    {
     "name": "stdout",
     "output_type": "stream",
     "text": [
      "[0 1 2 3 4]\n",
      "[ 0  5 10 15 20]\n",
      "[0.         1.         1.41421356 1.73205081 2.        ]\n",
      "[0. 1. 2. 2. 2.]\n",
      "[0. 1. 1. 1. 2.]\n",
      "[False False False False False]\n"
     ]
    }
   ],
   "source": [
    "nums = np.arange(5)\n",
    "print(nums)\n",
    "print(nums * 5)\n",
    "nums = np.sqrt(nums)\n",
    "print(nums)\n",
    "print(np.ceil(nums))\n",
    "print(np.floor(nums))\n",
    "print(np.isnan(nums))"
   ]
  },
  {
   "cell_type": "markdown",
   "id": "7aa34fcd-67e4-43fc-997e-d19996c03868",
   "metadata": {},
   "source": [
    "### numpy.dot() function"
   ]
  },
  {
   "cell_type": "raw",
   "id": "7298786d-296f-4915-bd15-2dcd82c0685d",
   "metadata": {},
   "source": [
    "The dot product is calculated as :\n",
    "[100 * 10 + 200*12 , 100*20+200*21] [23*10+12*12 , 23*20........."
   ]
  },
  {
   "cell_type": "code",
   "execution_count": 28,
   "id": "c3b147d2-7968-4531-9b5d-c84360ef29be",
   "metadata": {},
   "outputs": [
    {
     "name": "stdout",
     "output_type": "stream",
     "text": [
      "[[3400 6200]\n",
      " [ 374  712]]\n"
     ]
    }
   ],
   "source": [
    "a = np.array([[100,200],[23,12]])\n",
    "b = np.array([[10,20],[12,21]])\n",
    "\n",
    "dot = np.dot(a,b)\n",
    "print(dot)"
   ]
  },
  {
   "cell_type": "code",
   "execution_count": 34,
   "id": "e3e61d73-6a8b-4127-b76d-09889f3deda0",
   "metadata": {},
   "outputs": [
    {
     "name": "stdout",
     "output_type": "stream",
     "text": [
      "[ 1.59018569 -0.1260271  -0.4468118  -1.26141814 -0.3509739  -0.2239029\n",
      " -0.0345435   1.13591768 -0.99444011 -0.36414356]\n",
      "[ 1.72329893  0.68876276  0.21507772 -1.57929114 -0.30928779 -0.67548817\n",
      " -0.5561112   1.027307   -1.11307796 -1.76873451]\n",
      "1.9228076928607296\n"
     ]
    }
   ],
   "source": [
    "ver1 = np.random.randn(10)\n",
    "print(ver1)\n",
    "\n",
    "ver2 = np.random.randn(10)\n",
    "print(ver2)\n",
    "\n",
    "dist = np.sqrt(np.sum((ver1 - ver2)**2))\n",
    "print(dist)"
   ]
  }
 ],
 "metadata": {
  "kernelspec": {
   "display_name": "Python 3 (ipykernel)",
   "language": "python",
   "name": "python3"
  },
  "language_info": {
   "codemirror_mode": {
    "name": "ipython",
    "version": 3
   },
   "file_extension": ".py",
   "mimetype": "text/x-python",
   "name": "python",
   "nbconvert_exporter": "python",
   "pygments_lexer": "ipython3",
   "version": "3.13.3"
  }
 },
 "nbformat": 4,
 "nbformat_minor": 5
}
