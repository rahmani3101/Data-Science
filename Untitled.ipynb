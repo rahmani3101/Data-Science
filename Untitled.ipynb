{
 "cells": [
  {
   "cell_type": "markdown",
   "id": "129356f0-cb8e-4487-82ac-dd619b90dfe1",
   "metadata": {},
   "source": [
    "### Flower Graphics"
   ]
  },
  {
   "cell_type": "code",
   "execution_count": 4,
   "id": "06bd018b-ece3-4fe2-b118-3033e2d2240b",
   "metadata": {},
   "outputs": [
    {
     "name": "stdout",
     "output_type": "stream",
     "text": [
      "Defaulting to user installation because normal site-packages is not writeable\n",
      "\u001b[31mERROR: Could not find a version that satisfies the requirement turtle (from versions: none)\u001b[0m\u001b[31m\n",
      "\u001b[31mERROR: No matching distribution found for turtle\u001b[0m\u001b[31m\n",
      "\u001b[0m"
     ]
    }
   ],
   "source": [
    "!pip install turtle"
   ]
  },
  {
   "cell_type": "code",
   "execution_count": 6,
   "id": "c7176d8f-f235-493f-a91d-69c5d11a12fb",
   "metadata": {},
   "outputs": [
    {
     "ename": "ModuleNotFoundError",
     "evalue": "No module named 'turtle'",
     "output_type": "error",
     "traceback": [
      "\u001b[0;31m---------------------------------------------------------------------------\u001b[0m",
      "\u001b[0;31mModuleNotFoundError\u001b[0m                       Traceback (most recent call last)",
      "Cell \u001b[0;32mIn[6], line 1\u001b[0m\n\u001b[0;32m----> 1\u001b[0m \u001b[38;5;28;01mimport\u001b[39;00m \u001b[38;5;21;01mturtle\u001b[39;00m \u001b[38;5;28;01mas\u001b[39;00m \u001b[38;5;21;01mtur\u001b[39;00m\n\u001b[1;32m      2\u001b[0m \u001b[38;5;28;01mimport\u001b[39;00m \u001b[38;5;21;01mcolorsys\u001b[39;00m \u001b[38;5;28;01mas\u001b[39;00m \u001b[38;5;21;01mcs\u001b[39;00m \n\u001b[1;32m      3\u001b[0m tur\u001b[38;5;241m.\u001b[39msetup(\u001b[38;5;241m800\u001b[39m,\u001b[38;5;241m800\u001b[39m)\n",
      "\u001b[0;31mModuleNotFoundError\u001b[0m: No module named 'turtle'"
     ]
    }
   ],
   "source": [
    "import turtle as tur\n",
    "import colorsys as cs \n",
    "tur.setup(800,800)\n",
    "tur.speed(0)\n",
    "tur.tracer(10)\n",
    "tur.width(2)\n",
    "tur.bgcolor(\"black\")\n",
    "\n",
    "for j in range(25):\n",
    "    for i in range(15):\n",
    "        tur.color(cs.hsv_to_rgb(i/15,j/15,1))\n",
    "        tur.right(90)\n",
    "        tur.circle(200-j*4 , 90)\n",
    "        tur.left(90)\n",
    "        tur.circle(200-j*4 , 90)\n",
    "        tur.right(180)\n",
    "        tur.circle(50,24)\n",
    "tur.hideturtle()\n",
    "tur.done()"
   ]
  },
  {
   "cell_type": "code",
   "execution_count": null,
   "id": "9aa8b9c9-ef69-4387-8525-f2f2cf7495e3",
   "metadata": {},
   "outputs": [],
   "source": []
  }
 ],
 "metadata": {
  "kernelspec": {
   "display_name": "Python 3 (ipykernel)",
   "language": "python",
   "name": "python3"
  },
  "language_info": {
   "codemirror_mode": {
    "name": "ipython",
    "version": 3
   },
   "file_extension": ".py",
   "mimetype": "text/x-python",
   "name": "python",
   "nbconvert_exporter": "python",
   "pygments_lexer": "ipython3",
   "version": "3.13.3"
  }
 },
 "nbformat": 4,
 "nbformat_minor": 5
}
