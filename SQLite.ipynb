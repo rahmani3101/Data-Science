{
 "cells": [
  {
   "cell_type": "markdown",
   "id": "f1b8207b-0532-47cf-b95d-61f80b458692",
   "metadata": {},
   "source": [
    "## Dealing with Database"
   ]
  },
  {
   "cell_type": "markdown",
   "id": "b990f254-ad91-4952-9ef8-1295ab3e7d4f",
   "metadata": {},
   "source": [
    "Python needs a MySQL driver to access the MySQL database."
   ]
  },
  {
   "cell_type": "code",
   "execution_count": 36,
   "id": "46c57376-df1c-4de1-8bc3-5f92d5b96656",
   "metadata": {},
   "outputs": [
    {
     "name": "stdout",
     "output_type": "stream",
     "text": [
      "Defaulting to user installation because normal site-packages is not writeable\n",
      "Requirement already satisfied: mysql-connector-python in /home/falcon/.local/lib/python3.13/site-packages (9.2.0)\n"
     ]
    }
   ],
   "source": [
    "!pip install mysql-connector-python"
   ]
  },
  {
   "cell_type": "code",
   "execution_count": 37,
   "id": "44163c5e-b88e-4a55-80aa-4748418e31ba",
   "metadata": {},
   "outputs": [],
   "source": [
    "import mysql.connector"
   ]
  },
  {
   "cell_type": "code",
   "execution_count": 38,
   "id": "a181f566-8569-41ef-b908-37e413cdf273",
   "metadata": {},
   "outputs": [],
   "source": [
    "import sqlite3"
   ]
  },
  {
   "cell_type": "code",
   "execution_count": 39,
   "id": "b4e97448-7854-4ae3-bc52-6bdc05f4cf3e",
   "metadata": {},
   "outputs": [
    {
     "name": "stdout",
     "output_type": "stream",
     "text": [
      "Connected with the database successfully.....\n"
     ]
    }
   ],
   "source": [
    "connection = sqlite3.connect(\"myemp.db\")\n",
    "print(\"Connected with the database successfully.....\")"
   ]
  },
  {
   "cell_type": "code",
   "execution_count": 40,
   "id": "10781b1e-3d3a-496c-b404-bd0b99b8c888",
   "metadata": {},
   "outputs": [
    {
     "name": "stdout",
     "output_type": "stream",
     "text": [
      "<class 'sqlite3.Connection'>\n"
     ]
    }
   ],
   "source": [
    "print(type(connection))"
   ]
  },
  {
   "cell_type": "code",
   "execution_count": 41,
   "id": "886754bf-7fbf-4436-a631-e7932b94197a",
   "metadata": {},
   "outputs": [
    {
     "name": "stdout",
     "output_type": "stream",
     "text": [
      "Table has been created succeesfully.......\n"
     ]
    }
   ],
   "source": [
    "#Create employee table as employee(emp_id,emp_name,emp_city , emp_salary)\n",
    "\n",
    "sqlStr = '''\n",
    "            CREATE TABLE employee(\n",
    "                emp_id TEXT PRIMARY KEY,\n",
    "                emp_name TEXT,\n",
    "                emp_city TEXT,\n",
    "                emp_salary TEXT);\n",
    "\n",
    "               '''\n",
    "\n",
    "try:\n",
    "    connection.execute(sqlStr)\n",
    "    print(\"Table has been created succeesfully.......\")\n",
    "except:\n",
    "    print(\"Error !!! Database table could not be created.....!!!\")"
   ]
  },
  {
   "cell_type": "code",
   "execution_count": 42,
   "id": "5ec4f71d-3a4a-4d46-b679-16088dfe9db9",
   "metadata": {},
   "outputs": [
    {
     "name": "stdout",
     "output_type": "stream",
     "text": [
      "<_csv.reader object at 0x7fde46271770>\n",
      "[['Emp_Id', 'Emp_Name', 'Emp_City', 'Emp_Salary', 'Emp_Age', 'Emp_Gender'], ['1001.00', 'Dhiman', 'Kolkata', '39000.00', '39.00', 'Male'], ['1002.00', 'Anupam', 'Kolkata', '25000.00', '25.00', 'Male'], ['1003.00', 'Subham', 'Mumbai', '36000.00', '36.00', 'Male'], ['1004.00', 'Dinesh', 'Chennai', '28000.00', '28.00', 'Male'], ['1005.00', 'Kakali', 'Mumbai', '25000.00', '34.00', 'Female'], ['1006.00', 'Bimal', 'Hyderabad', '30000.00', '30.00', 'Male'], ['1007.00', 'Tarun', 'Chennai', '17000.00', '22.00', 'Male'], ['1008.00', 'Rittika', 'Durgapur', '45000.00', '45.00', 'Female'], ['1009.00', 'Barun', 'Hyderabad', '39000.00', '39.00', 'Male'], ['1010.00', 'Anjali', 'Lucknow', '20000.00', '26.00', 'Female']]\n"
     ]
    }
   ],
   "source": [
    "import csv\n",
    "sqlStr = \"INSERT INTO employee VALUES('{emp_name_ph}','{emp_name_ph}','{emp_city_ph}','{emp_salary_ph}')\"\n",
    "#ph = place holder\n",
    "\n",
    "#read line from csv files and store them into table\n",
    "with open(\"emp_data.csv\") as datafile:\n",
    "    csv_reader = csv.reader(datafile)\n",
    "    print(csv_reader)\n",
    "    print(list(csv_reader))"
   ]
  },
  {
   "cell_type": "code",
   "execution_count": 43,
   "id": "7bcf9cd8-1702-4338-ac9e-6681bf489a07",
   "metadata": {},
   "outputs": [
    {
     "name": "stdout",
     "output_type": "stream",
     "text": [
      "All records got inserted successfully..........\n"
     ]
    }
   ],
   "source": [
    " # Change to your DB and connection method\n",
    "cursor = connection.cursor()\n",
    "\n",
    "# Define the SQL statement with placeholders\n",
    "sqlStr = \"INSERT INTO employee VALUES (?, ?, ?, ?)\"\n",
    "\n",
    "# Open and read the CSV\n",
    "with open(\"emp_data.csv\", newline='') as datafile:\n",
    "    csv_reader = csv.reader(datafile)\n",
    "    next(csv_reader)  # Skip header\n",
    "    for row in csv_reader:\n",
    "        cursor.execute(sqlStr, (row[0], row[1], row[2], row[3]))\n",
    "\n",
    "# Commit the changes\n",
    "connection.commit()\n",
    "print(\"All records got inserted successfully..........\")\n"
   ]
  },
  {
   "cell_type": "markdown",
   "id": "e0efcfdc-3173-4f93-adb9-1f1f9f83b117",
   "metadata": {},
   "source": [
    "Retreving record from database table"
   ]
  },
  {
   "cell_type": "code",
   "execution_count": 44,
   "id": "d953160b-6477-4f22-8f26-f78a6bf727c8",
   "metadata": {},
   "outputs": [
    {
     "name": "stdout",
     "output_type": "stream",
     "text": [
      "Emp-Id : 1001.00,Emp-Name: Dhiman,Emp-City : Kolkata , Emp- salary :39000.00\n",
      "Emp-Id : 1002.00,Emp-Name: Anupam,Emp-City : Kolkata , Emp- salary :25000.00\n",
      "Emp-Id : 1003.00,Emp-Name: Subham,Emp-City : Mumbai , Emp- salary :36000.00\n",
      "Emp-Id : 1004.00,Emp-Name: Dinesh,Emp-City : Chennai , Emp- salary :28000.00\n",
      "Emp-Id : 1005.00,Emp-Name: Kakali,Emp-City : Mumbai , Emp- salary :25000.00\n",
      "Emp-Id : 1006.00,Emp-Name: Bimal,Emp-City : Hyderabad , Emp- salary :30000.00\n",
      "Emp-Id : 1007.00,Emp-Name: Tarun,Emp-City : Chennai , Emp- salary :17000.00\n",
      "Emp-Id : 1008.00,Emp-Name: Rittika,Emp-City : Durgapur , Emp- salary :45000.00\n",
      "Emp-Id : 1009.00,Emp-Name: Barun,Emp-City : Hyderabad , Emp- salary :39000.00\n",
      "Emp-Id : 1010.00,Emp-Name: Anjali,Emp-City : Lucknow , Emp- salary :20000.00\n"
     ]
    }
   ],
   "source": [
    "sqlStr = \"SELECT * FROM employee;\"\n",
    "\n",
    "cur_table = connection.execute(sqlStr)\n",
    "for row in cur_table:\n",
    "    print(f\"Emp-Id : {row[0]},Emp-Name: {row[1]},Emp-City : {row[2]} , Emp- salary :{row[3]}\")"
   ]
  },
  {
   "cell_type": "markdown",
   "id": "d3d7a8df-35d9-429e-a530-701ce6662c90",
   "metadata": {},
   "source": [
    "## Select query 1"
   ]
  },
  {
   "cell_type": "markdown",
   "id": "3cf57984-36a1-4d01-be6d-d78cf6677054",
   "metadata": {},
   "source": [
    "## SQL for fetching name and salary of those employees whose salary is greater than 30000"
   ]
  },
  {
   "cell_type": "code",
   "execution_count": 45,
   "id": "f8518e7b-4ee4-42ad-a107-8dda4a77c366",
   "metadata": {},
   "outputs": [
    {
     "name": "stdout",
     "output_type": "stream",
     "text": [
      "Emp-Name : Dhiman , Emp-Salary :39000.00\n",
      "Emp-Name : Subham , Emp-Salary :36000.00\n",
      "Emp-Name : Bimal , Emp-Salary :30000.00\n",
      "Emp-Name : Rittika , Emp-Salary :45000.00\n",
      "Emp-Name : Barun , Emp-Salary :39000.00\n"
     ]
    }
   ],
   "source": [
    "sqlStr = \"SELECT emp_name,emp_salary from employee WHERE emp_salary > 30000;\"\n",
    "cur_table = connection.execute(sqlStr)\n",
    "for row in cur_table:\n",
    "    print(f\"Emp-Name : {row[0]} , Emp-Salary :{row[1]}\")"
   ]
  },
  {
   "cell_type": "markdown",
   "id": "534d7013-20b2-4f6a-9ed3-e8e87a9b15d5",
   "metadata": {},
   "source": [
    "## Select query 2"
   ]
  },
  {
   "cell_type": "markdown",
   "id": "337e4f1e-927e-41bb-b011-b5507e7c6312",
   "metadata": {},
   "source": [
    "## Fetch employee name , salary and 7.5% TDS against the salaries of all the employee"
   ]
  },
  {
   "cell_type": "code",
   "execution_count": 46,
   "id": "2e432b6b-ccbd-45a5-ad49-f941b1ae279a",
   "metadata": {},
   "outputs": [
    {
     "name": "stdout",
     "output_type": "stream",
     "text": [
      "Emp-Name : Dhiman , Emp-Salary :39000.00 , TDS : 29250.0\n",
      "Emp-Name : Anupam , Emp-Salary :25000.00 , TDS : 18750.0\n",
      "Emp-Name : Subham , Emp-Salary :36000.00 , TDS : 27000.0\n",
      "Emp-Name : Dinesh , Emp-Salary :28000.00 , TDS : 21000.0\n",
      "Emp-Name : Kakali , Emp-Salary :25000.00 , TDS : 18750.0\n",
      "Emp-Name : Bimal , Emp-Salary :30000.00 , TDS : 22500.0\n",
      "Emp-Name : Tarun , Emp-Salary :17000.00 , TDS : 12750.0\n",
      "Emp-Name : Rittika , Emp-Salary :45000.00 , TDS : 33750.0\n",
      "Emp-Name : Barun , Emp-Salary :39000.00 , TDS : 29250.0\n",
      "Emp-Name : Anjali , Emp-Salary :20000.00 , TDS : 15000.0\n"
     ]
    }
   ],
   "source": [
    "sqlStr = \"SELECT emp_name,emp_salary,emp_salary*0.75 FROM employee;\"\n",
    "cur_table = connection.execute(sqlStr)\n",
    "for row in cur_table:\n",
    "    print(f\"Emp-Name : {row[0]} , Emp-Salary :{row[1]} , TDS : {row[2]}\")"
   ]
  },
  {
   "cell_type": "markdown",
   "id": "1ca0487c-c5aa-4566-8847-02bbe2c1ecce",
   "metadata": {},
   "source": [
    "## SELECT QUERY 3"
   ]
  },
  {
   "cell_type": "markdown",
   "id": "1bbd9e4f-0d10-4932-911e-ed53722a4a80",
   "metadata": {},
   "source": [
    "## Display city wise average salaries of all employees from the employee table"
   ]
  },
  {
   "cell_type": "code",
   "execution_count": 47,
   "id": "8fb9285a-0284-4a7d-9a11-243cb45e092b",
   "metadata": {},
   "outputs": [
    {
     "name": "stdout",
     "output_type": "stream",
     "text": [
      "Emp-City : Chennai , Avg Salary :22500.0\n",
      "Emp-City : Durgapur , Avg Salary :45000.0\n",
      "Emp-City : Hyderabad , Avg Salary :34500.0\n",
      "Emp-City : Kolkata , Avg Salary :32000.0\n",
      "Emp-City : Lucknow , Avg Salary :20000.0\n",
      "Emp-City : Mumbai , Avg Salary :30500.0\n"
     ]
    }
   ],
   "source": [
    "sqlStr = \"SELECT emp_city ,AVG(emp_salary) AS Average_Salary FROM employee GROUP BY emp_city;\"\n",
    "cur_table = connection.execute(sqlStr)\n",
    "for row in cur_table:\n",
    "    print(f\"Emp-City : {row[0]} , Avg Salary :{row[1]}\")"
   ]
  },
  {
   "cell_type": "markdown",
   "id": "261e5d44-f429-42b9-8093-cd0d850a39b1",
   "metadata": {},
   "source": [
    "## INSERT QUERY 4"
   ]
  },
  {
   "cell_type": "markdown",
   "id": "2ad5acec-f2a6-4b16-a496-bb2cb25c2dbd",
   "metadata": {},
   "source": [
    "## Insert n number of records into the employee table after taking required inputs from the user"
   ]
  },
  {
   "cell_type": "code",
   "execution_count": null,
   "id": "3ebc45ce-655d-4674-9c90-001a42f0f642",
   "metadata": {},
   "outputs": [],
   "source": [
    "n = int(input(\"Enter the number of records you want to insert : \"))\n",
    "cursor = connection.cursor()\n",
    "sqlStr = \"INSERT INTO employee VALUES(?,?,?,?);\"\n",
    "for i in range(n):\n",
    "    emp_id = int(input(\"Enter the employee ID :\"))\n",
    "    emp_name =input(\"Enter the employee name :\")\n",
    "    emp_city = input(\"Enter the employee city :\")\n",
    "    emp_salary = float(input(\"Enter the employee Salary :\"))\n",
    "    cursor.execute(sqlStr,(emp_id,emp_name,emp_city,emp_salary))\n",
    "connection.commit()\n",
    "print(\"All records got inserted successfully..........\")"
   ]
  },
  {
   "cell_type": "markdown",
   "id": "c2a50276-a325-4e9f-91fa-d661660c994c",
   "metadata": {},
   "source": [
    "## Retreving records from the databse table"
   ]
  },
  {
   "cell_type": "code",
   "execution_count": 55,
   "id": "8bcab306-db76-4161-adea-35b6b2437192",
   "metadata": {},
   "outputs": [
    {
     "name": "stdout",
     "output_type": "stream",
     "text": [
      "Emp_ID : 1001.00 , Emp-Name : Dhiman , Emp_City : Kolkata , Emp-Salary :39000.00\n",
      "Emp_ID : 1002.00 , Emp-Name : Anupam , Emp_City : Kolkata , Emp-Salary :25000.00\n",
      "Emp_ID : 1003.00 , Emp-Name : Subham , Emp_City : Mumbai , Emp-Salary :36000.00\n",
      "Emp_ID : 1004.00 , Emp-Name : Dinesh , Emp_City : Chennai , Emp-Salary :28000.00\n",
      "Emp_ID : 1005.00 , Emp-Name : Kakali , Emp_City : Mumbai , Emp-Salary :25000.00\n",
      "Emp_ID : 1006.00 , Emp-Name : Bimal , Emp_City : Hyderabad , Emp-Salary :30000.00\n",
      "Emp_ID : 1007.00 , Emp-Name : Tarun , Emp_City : Chennai , Emp-Salary :17000.00\n",
      "Emp_ID : 1009.00 , Emp-Name : Barun , Emp_City : Hyderabad , Emp-Salary :39000.00\n",
      "Emp_ID : 1010.00 , Emp-Name : Anjali , Emp_City : Lucknow , Emp-Salary :20000.00\n",
      "Emp_ID : 2723 , Emp-Name : Asad , Emp_City : Jamshedpur , Emp-Salary :3600000.0\n",
      "Emp_ID : 741 , Emp-Name : Nitesh , Emp_City : Dhanbaad , Emp-Salary :89000.0\n"
     ]
    }
   ],
   "source": [
    "sqlStr = \"SELECT * FROM employee;\"\n",
    "cur_table = connection.execute(sqlStr)\n",
    "for row in cur_table:\n",
    "    print(f\"Emp_ID : {row[0]} , Emp-Name : {row[1]} , Emp_City : {row[2]} , Emp-Salary :{row[3]}\")\n"
   ]
  },
  {
   "cell_type": "markdown",
   "id": "24a98eac-ff03-47a3-83e5-3cb9ea227380",
   "metadata": {},
   "source": [
    "## DELETING record from the table"
   ]
  },
  {
   "cell_type": "markdown",
   "id": "813de54f-264f-48cd-ab9a-e94aac40c9ef",
   "metadata": {},
   "source": [
    "## DELETE those records where city = \"Bangalore\""
   ]
  },
  {
   "cell_type": "code",
   "execution_count": 56,
   "id": "35aef426-a2b5-4d86-b626-5ccbb2b4503e",
   "metadata": {},
   "outputs": [
    {
     "name": "stdout",
     "output_type": "stream",
     "text": [
      "So the number of records deleted is : 0\n"
     ]
    }
   ],
   "source": [
    "sqlStr = \"DELETE FROM employee WHERE emp_city ='Bangalore';\"\n",
    "table=connection.execute(sqlStr)\n",
    "connection.commit()\n",
    "print(\"So the number of records deleted is :\",table.rowcount)"
   ]
  },
  {
   "cell_type": "markdown",
   "id": "d14098ab-d3b9-48ba-af5b-c0985b6dfa88",
   "metadata": {},
   "source": [
    "## DELETING record from the table"
   ]
  },
  {
   "cell_type": "markdown",
   "id": "13ac9e38-36f8-46d7-ac5e-26220b545690",
   "metadata": {},
   "source": [
    "## DELETE those records where city = \"Durgapur\""
   ]
  },
  {
   "cell_type": "code",
   "execution_count": 57,
   "id": "e9902511-282c-4246-92e8-7926a6b56bc6",
   "metadata": {},
   "outputs": [
    {
     "name": "stdout",
     "output_type": "stream",
     "text": [
      "So the number of records deleted is : 0\n"
     ]
    }
   ],
   "source": [
    "sqlStr = \"DELETE FROM employee WHERE emp_city ='Durgapur';\"\n",
    "table=connection.execute(sqlStr)\n",
    "connection.commit()\n",
    "print(\"So the number of records deleted is :\",table.rowcount)"
   ]
  },
  {
   "cell_type": "code",
   "execution_count": 58,
   "id": "5b7f7a38-5576-4258-9d74-6726fcf191cc",
   "metadata": {},
   "outputs": [
    {
     "name": "stdout",
     "output_type": "stream",
     "text": [
      "Emp_ID : 1001.00 , Emp-Name : Dhiman , Emp_City : Kolkata , Emp-Salary :39000.00\n",
      "Emp_ID : 1002.00 , Emp-Name : Anupam , Emp_City : Kolkata , Emp-Salary :25000.00\n",
      "Emp_ID : 1003.00 , Emp-Name : Subham , Emp_City : Mumbai , Emp-Salary :36000.00\n",
      "Emp_ID : 1004.00 , Emp-Name : Dinesh , Emp_City : Chennai , Emp-Salary :28000.00\n",
      "Emp_ID : 1005.00 , Emp-Name : Kakali , Emp_City : Mumbai , Emp-Salary :25000.00\n",
      "Emp_ID : 1006.00 , Emp-Name : Bimal , Emp_City : Hyderabad , Emp-Salary :30000.00\n",
      "Emp_ID : 1007.00 , Emp-Name : Tarun , Emp_City : Chennai , Emp-Salary :17000.00\n",
      "Emp_ID : 1009.00 , Emp-Name : Barun , Emp_City : Hyderabad , Emp-Salary :39000.00\n",
      "Emp_ID : 1010.00 , Emp-Name : Anjali , Emp_City : Lucknow , Emp-Salary :20000.00\n",
      "Emp_ID : 2723 , Emp-Name : Asad , Emp_City : Jamshedpur , Emp-Salary :3600000.0\n",
      "Emp_ID : 741 , Emp-Name : Nitesh , Emp_City : Dhanbaad , Emp-Salary :89000.0\n"
     ]
    }
   ],
   "source": [
    "sqlStr = \"SELECT * FROM employee;\"\n",
    "cur_table = connection.execute(sqlStr)\n",
    "for row in cur_table:\n",
    "    print(f\"Emp_ID : {row[0]} , Emp-Name : {row[1]} , Emp_City : {row[2]} , Emp-Salary :{row[3]}\")"
   ]
  }
 ],
 "metadata": {
  "kernelspec": {
   "display_name": "Python 3 (ipykernel)",
   "language": "python",
   "name": "python3"
  },
  "language_info": {
   "codemirror_mode": {
    "name": "ipython",
    "version": 3
   },
   "file_extension": ".py",
   "mimetype": "text/x-python",
   "name": "python",
   "nbconvert_exporter": "python",
   "pygments_lexer": "ipython3",
   "version": "3.13.3"
  }
 },
 "nbformat": 4,
 "nbformat_minor": 5
}
