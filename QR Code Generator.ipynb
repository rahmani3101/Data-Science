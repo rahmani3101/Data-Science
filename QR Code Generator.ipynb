{
 "cells": [
  {
   "cell_type": "markdown",
   "id": "5883fdf0-fd10-4ba9-a7ff-5a6dfee226ce",
   "metadata": {},
   "source": [
    "## QR Code Generator "
   ]
  },
  {
   "cell_type": "code",
   "execution_count": 1,
   "id": "6629df71-8c72-49ac-bee9-67fe99f60343",
   "metadata": {},
   "outputs": [
    {
     "name": "stdout",
     "output_type": "stream",
     "text": [
      "Defaulting to user installation because normal site-packages is not writeable\n",
      "Collecting qrcode\n",
      "  Downloading qrcode-8.2-py3-none-any.whl.metadata (17 kB)\n",
      "Downloading qrcode-8.2-py3-none-any.whl (45 kB)\n",
      "Installing collected packages: qrcode\n",
      "Successfully installed qrcode-8.2\n"
     ]
    }
   ],
   "source": [
    "!pip install qrcode"
   ]
  },
  {
   "cell_type": "code",
   "execution_count": 2,
   "id": "ba4c6178-d490-4a2c-bef9-5bf6ecd1816f",
   "metadata": {},
   "outputs": [],
   "source": [
    "import qrcode"
   ]
  },
  {
   "cell_type": "code",
   "execution_count": 3,
   "id": "13bd4d75-cb15-48ab-b362-2d66d9cfacbb",
   "metadata": {},
   "outputs": [],
   "source": [
    "link = 'www.linkedin.com/in/rahmani3101'\n",
    "img = qrcode.make(link)\n",
    "\n",
    "#saving the image\n",
    "img.save(\"Arcade.jpg\")"
   ]
  }
 ],
 "metadata": {
  "kernelspec": {
   "display_name": "Python 3 (ipykernel)",
   "language": "python",
   "name": "python3"
  },
  "language_info": {
   "codemirror_mode": {
    "name": "ipython",
    "version": 3
   },
   "file_extension": ".py",
   "mimetype": "text/x-python",
   "name": "python",
   "nbconvert_exporter": "python",
   "pygments_lexer": "ipython3",
   "version": "3.13.3"
  }
 },
 "nbformat": 4,
 "nbformat_minor": 5
}
