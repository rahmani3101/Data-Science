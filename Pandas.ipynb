{
 "cells": [
  {
   "cell_type": "markdown",
   "id": "fcc6e285-768d-4ca7-bbcb-65d0fbe59c73",
   "metadata": {},
   "source": [
    "# PANDAS "
   ]
  },
  {
   "cell_type": "markdown",
   "id": "296d6719-39cc-4ace-a299-4809f0a4a3e9",
   "metadata": {},
   "source": [
    "Pandas is defined as an open source library that provides high-performance data manipulation in Python. It is developed by Wed McKinney in 2008.\n",
    "We say that 80% of data analysis is sepnt on the data cleaning and preparing data.To get a handle on the problem,this Pandas focuses on a small, but important aspect of data manipulation and data cleaning.Pandas is built on top of NumPy package , means NumPy is required for operating the Pandas"
   ]
  },
  {
   "cell_type": "code",
   "execution_count": 4,
   "id": "e09c15ef-bf7f-426a-aaed-ff1023b67cd7",
   "metadata": {},
   "outputs": [],
   "source": [
    "import pandas as pd\n",
    "import numpy as np"
   ]
  },
  {
   "cell_type": "markdown",
   "id": "6ea4f648-4e36-4838-8b3d-f2c25e0441dd",
   "metadata": {},
   "source": [
    "## Data Structures"
   ]
  },
  {
   "cell_type": "markdown",
   "id": "71ec01c6-0731-4722-a5d4-dc2275e30181",
   "metadata": {},
   "source": [
    "> Series : It is a one - dimensional labeled array capable of holding any data type (int , float,object,etc).The axis are collectively referred to as the index."
   ]
  },
  {
   "cell_type": "markdown",
   "id": "c66bcbed-6a95-4e77-b4f7-f069801aafac",
   "metadata": {},
   "source": [
    "> Data Frame : It is a 2 dimensional labelled data structure with columns of potentially different types.You can think of it like...."
   ]
  },
  {
   "cell_type": "markdown",
   "id": "eca0d60b-4cf2-4a62-849a-bc22e590fd5c",
   "metadata": {},
   "source": [
    "### Series Data Structure"
   ]
  },
  {
   "cell_type": "markdown",
   "id": "eac60e90-a385-4c11-bb67-52138aa5a6e2",
   "metadata": {},
   "source": [
    "pandas.Series(data , index ,dtype , copy)\n",
    "data - data takes various forms like ndarray , list , constants , dict etc.\n",
    "index - it is unique and hashable for easy identification\n",
    "dtype - it is for data type\n",
    "copy - copy data, default is False\n",
    "A series can be created using various iput like : Array , Dict , Scalar or constant value ,etc"
   ]
  },
  {
   "cell_type": "code",
   "execution_count": 6,
   "id": "b894abfc-0d22-4b18-9d3f-77746fbeab8a",
   "metadata": {},
   "outputs": [
    {
     "name": "stdout",
     "output_type": "stream",
     "text": [
      "Series([], dtype: string) <class 'pandas.core.series.Series'>\n"
     ]
    }
   ],
   "source": [
    "# create empty series\n",
    "\n",
    "s = pd.Series(dtype=pd.StringDtype())\n",
    "print(s , type(s))"
   ]
  },
  {
   "cell_type": "code",
   "execution_count": 7,
   "id": "3a1fdbf8-1ae9-4f11-b10f-bc0ad1359d20",
   "metadata": {},
   "outputs": [
    {
     "name": "stdout",
     "output_type": "stream",
     "text": [
      "['Asad' 'Ashar' 'Mouzam' 'Anis'] <class 'numpy.ndarray'>\n",
      "0      Asad\n",
      "1     Ashar\n",
      "2    Mouzam\n",
      "3      Anis\n",
      "dtype: object <class 'pandas.core.series.Series'>\n"
     ]
    }
   ],
   "source": [
    "# create a Series from ndarray\n",
    "data1 = np.array(['Asad','Ashar','Mouzam','Anis'])\n",
    "print(data1 , type(data1))\n",
    "\n",
    "s = pd.Series(data=data1)\n",
    "print(s , type(s))               "
   ]
  },
  {
   "cell_type": "code",
   "execution_count": 9,
   "id": "ad083ebd-b611-4528-bf0f-b3697b0d200f",
   "metadata": {},
   "outputs": [
    {
     "name": "stdout",
     "output_type": "stream",
     "text": [
      "['Asad' 'Ashar' 'Mouzam' 'Anis'] <class 'numpy.ndarray'>\n",
      "27      Asad\n",
      "68     Ashar\n",
      "74    Mouzam\n",
      "85      Anis\n",
      "dtype: object <class 'pandas.core.series.Series'>\n",
      "\n",
      "Asad\n",
      "Ashar\n"
     ]
    }
   ],
   "source": [
    "data1 = np.array(['Asad','Ashar','Mouzam','Anis'])\n",
    "print(data1 , type(data1))\n",
    "\n",
    "s = pd.Series(data=data1, index = ['27','68','74','85'])\n",
    "print(s , type(s))    \n",
    "print()\n",
    "\n",
    "print(s['27'])\n",
    "print(s['68'])"
   ]
  },
  {
   "cell_type": "code",
   "execution_count": 10,
   "id": "97e0ec80-56e4-4594-9057-be79a3b68f64",
   "metadata": {},
   "outputs": [
    {
     "name": "stdout",
     "output_type": "stream",
     "text": [
      "{'Apple': 200, 'Banana': 60, 'Pineapple': 70, 'Orange': 100, 'Water_lemon': 30} <class 'dict'>\n"
     ]
    }
   ],
   "source": [
    "# create a Series from dictionary\n",
    "data = {'Apple': 200,\n",
    "        'Banana' : 60,\n",
    "        'Pineapple' : 70 ,\n",
    "        'Orange' : 100,\n",
    "        'Water_lemon':30}\n",
    "\n",
    "print(data , type(data))"
   ]
  },
  {
   "cell_type": "code",
   "execution_count": 11,
   "id": "593ff004-7c73-498a-9ff5-1fcefd15922a",
   "metadata": {},
   "outputs": [
    {
     "name": "stdout",
     "output_type": "stream",
     "text": [
      "Apple          200\n",
      "Banana          60\n",
      "Pineapple       70\n",
      "Orange         100\n",
      "Water_lemon     30\n",
      "dtype: int64 <class 'pandas.core.series.Series'>\n"
     ]
    }
   ],
   "source": [
    "s = pd.Series(data)\n",
    "print(s , type(s))"
   ]
  },
  {
   "cell_type": "code",
   "execution_count": 12,
   "id": "c4edd5e3-08c6-45f2-a52e-a7730d684f98",
   "metadata": {},
   "outputs": [
    {
     "name": "stdout",
     "output_type": "stream",
     "text": [
      "Apple        200.0\n",
      "Banana        60.0\n",
      "Pineapple     70.0\n",
      "Guava          NaN\n",
      "Orange       100.0\n",
      "Mango          NaN\n",
      "dtype: float64 <class 'pandas.core.series.Series'>\n"
     ]
    }
   ],
   "source": [
    "s = pd.Series(data , index = ['Apple','Banana','Pineapple','Guava','Orange','Mango'])\n",
    "print(s , type(s))"
   ]
  },
  {
   "cell_type": "code",
   "execution_count": 13,
   "id": "d294f9f4-46fa-4bae-a6cb-4b695d7732d3",
   "metadata": {},
   "outputs": [
    {
     "name": "stdout",
     "output_type": "stream",
     "text": [
      "0    5\n",
      "1    5\n",
      "2    5\n",
      "3    5\n",
      "4    5\n",
      "dtype: int64\n"
     ]
    }
   ],
   "source": [
    "s = pd.Series(5 , index = [0,1,2,3,4])\n",
    "print(s)"
   ]
  },
  {
   "cell_type": "code",
   "execution_count": 14,
   "id": "ea2050bc-3fc4-46d8-b950-f051f7315e31",
   "metadata": {},
   "outputs": [
    {
     "name": "stdout",
     "output_type": "stream",
     "text": [
      "Arijit      111\n",
      "Rahul       222\n",
      "Asad        333\n",
      "Debo        444\n",
      "Karmveer    555\n",
      "dtype: int64 <class 'pandas.core.series.Series'>\n"
     ]
    }
   ],
   "source": [
    "s = pd.Series([111,222,333,444,555],index = ['Arijit','Rahul','Asad','Debo','Karmveer'])\n",
    "print(s , type(s))"
   ]
  },
  {
   "cell_type": "code",
   "execution_count": 15,
   "id": "28334245-a178-4449-a14e-dba860ec85a5",
   "metadata": {},
   "outputs": [
    {
     "name": "stdout",
     "output_type": "stream",
     "text": [
      "Arijit    111\n",
      "Rahul     222\n",
      "Asad      333\n",
      "dtype: int64\n",
      "Asad        333\n",
      "Debo        444\n",
      "Karmveer    555\n",
      "dtype: int64\n"
     ]
    }
   ],
   "source": [
    "print(s[:3])\n",
    "print(s[-3:])"
   ]
  },
  {
   "cell_type": "code",
   "execution_count": 17,
   "id": "c559e7d6-9ea0-4436-a5aa-163c4d4c7c6c",
   "metadata": {},
   "outputs": [
    {
     "name": "stdout",
     "output_type": "stream",
     "text": [
      "True\n",
      "False\n"
     ]
    }
   ],
   "source": [
    "s_unique = pd.Series([1,2,3,4,5])\n",
    "print(s_unique.is_unique)\n",
    "\n",
    "s_unique = pd.Series([1,2,4,4,5])\n",
    "print(s_unique.is_unique)"
   ]
  },
  {
   "cell_type": "code",
   "execution_count": 19,
   "id": "b1a5219b-ac28-40bc-acd6-8dd79c4bd1f3",
   "metadata": {},
   "outputs": [
    {
     "name": "stdout",
     "output_type": "stream",
     "text": [
      "0    1\n",
      "1    2\n",
      "2    3\n",
      "3    4\n",
      "4    5\n",
      "5    6\n",
      "dtype: int64\n",
      "   0  1\n",
      "0  1  4\n",
      "1  2  5\n",
      "2  3  6\n"
     ]
    }
   ],
   "source": [
    "# Concatenating\n",
    "s1 = pd.Series([1,2,3])\n",
    "s2 = pd.Series([4,5,6])\n",
    "result = pd.concat([s1,s2]).reset_index(drop=True)\n",
    "print(result)\n",
    "result = pd.concat([s1,s2], axis = 1)\n",
    "print(result)"
   ]
  },
  {
   "cell_type": "code",
   "execution_count": null,
   "id": "5db4350e-7fbf-4c98-9923-e127fe9b8b06",
   "metadata": {},
   "outputs": [],
   "source": []
  }
 ],
 "metadata": {
  "kernelspec": {
   "display_name": "Python 3 (ipykernel)",
   "language": "python",
   "name": "python3"
  },
  "language_info": {
   "codemirror_mode": {
    "name": "ipython",
    "version": 3
   },
   "file_extension": ".py",
   "mimetype": "text/x-python",
   "name": "python",
   "nbconvert_exporter": "python",
   "pygments_lexer": "ipython3",
   "version": "3.13.3"
  }
 },
 "nbformat": 4,
 "nbformat_minor": 5
}
