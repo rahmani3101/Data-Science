{
 "cells": [
  {
   "cell_type": "markdown",
   "id": "ffaa607e-5551-49e2-a5d4-e674d37c98b4",
   "metadata": {},
   "source": [
    "## Pandas"
   ]
  },
  {
   "cell_type": "markdown",
   "id": "2f608699-b50c-4f68-af65-f48dd1c3f40d",
   "metadata": {},
   "source": [
    "Fetching data from database table and putting it on the DataFrame.\n",
    "A pandas DataFrame is a 2 dimensional data Structure like a 2 dimensional array or a table with row or columns "
   ]
  },
  {
   "cell_type": "code",
   "execution_count": 28,
   "id": "260721e3-ad4d-4778-92b3-dc2a39a81875",
   "metadata": {},
   "outputs": [],
   "source": [
    "import sqlite3"
   ]
  },
  {
   "cell_type": "code",
   "execution_count": 29,
   "id": "cf14d9ef-269f-4128-bccb-c4d0cc0d2b14",
   "metadata": {},
   "outputs": [
    {
     "name": "stdout",
     "output_type": "stream",
     "text": [
      "Connected with the database successfully.....\n"
     ]
    }
   ],
   "source": [
    "connection = sqlite3.connect(\"myemp.db\")\n",
    "print(\"Connected with the database successfully.....\")"
   ]
  },
  {
   "cell_type": "code",
   "execution_count": 30,
   "id": "a3792cbc-51f9-472f-b44c-8ac608b89b16",
   "metadata": {},
   "outputs": [],
   "source": [
    "import pandas as pd"
   ]
  },
  {
   "cell_type": "code",
   "execution_count": 31,
   "id": "1f0dc4e7-a72f-4d1a-90a9-7eb3650e8b21",
   "metadata": {},
   "outputs": [],
   "source": [
    "sqlStr = \"SELECT * FROM employee;\"\n",
    "table = connection.execute(sqlStr)"
   ]
  },
  {
   "cell_type": "code",
   "execution_count": 32,
   "id": "07ff459b-12af-4946-a364-e631ea0059d1",
   "metadata": {},
   "outputs": [
    {
     "data": {
      "text/html": [
       "<div>\n",
       "<style scoped>\n",
       "    .dataframe tbody tr th:only-of-type {\n",
       "        vertical-align: middle;\n",
       "    }\n",
       "\n",
       "    .dataframe tbody tr th {\n",
       "        vertical-align: top;\n",
       "    }\n",
       "\n",
       "    .dataframe thead th {\n",
       "        text-align: right;\n",
       "    }\n",
       "</style>\n",
       "<table border=\"1\" class=\"dataframe\">\n",
       "  <thead>\n",
       "    <tr style=\"text-align: right;\">\n",
       "      <th></th>\n",
       "      <th>0</th>\n",
       "      <th>1</th>\n",
       "      <th>2</th>\n",
       "      <th>3</th>\n",
       "    </tr>\n",
       "  </thead>\n",
       "  <tbody>\n",
       "    <tr>\n",
       "      <th>0</th>\n",
       "      <td>1001.00</td>\n",
       "      <td>Dhiman</td>\n",
       "      <td>Kolkata</td>\n",
       "      <td>39000.00</td>\n",
       "    </tr>\n",
       "    <tr>\n",
       "      <th>1</th>\n",
       "      <td>1002.00</td>\n",
       "      <td>Anupam</td>\n",
       "      <td>Kolkata</td>\n",
       "      <td>25000.00</td>\n",
       "    </tr>\n",
       "    <tr>\n",
       "      <th>2</th>\n",
       "      <td>1003.00</td>\n",
       "      <td>Subham</td>\n",
       "      <td>Mumbai</td>\n",
       "      <td>36000.00</td>\n",
       "    </tr>\n",
       "    <tr>\n",
       "      <th>3</th>\n",
       "      <td>1004.00</td>\n",
       "      <td>Dinesh</td>\n",
       "      <td>Chennai</td>\n",
       "      <td>28000.00</td>\n",
       "    </tr>\n",
       "    <tr>\n",
       "      <th>4</th>\n",
       "      <td>1005.00</td>\n",
       "      <td>Kakali</td>\n",
       "      <td>Mumbai</td>\n",
       "      <td>25000.00</td>\n",
       "    </tr>\n",
       "    <tr>\n",
       "      <th>5</th>\n",
       "      <td>1006.00</td>\n",
       "      <td>Bimal</td>\n",
       "      <td>Hyderabad</td>\n",
       "      <td>30000.00</td>\n",
       "    </tr>\n",
       "    <tr>\n",
       "      <th>6</th>\n",
       "      <td>1007.00</td>\n",
       "      <td>Tarun</td>\n",
       "      <td>Chennai</td>\n",
       "      <td>17000.00</td>\n",
       "    </tr>\n",
       "    <tr>\n",
       "      <th>7</th>\n",
       "      <td>1009.00</td>\n",
       "      <td>Barun</td>\n",
       "      <td>Hyderabad</td>\n",
       "      <td>39000.00</td>\n",
       "    </tr>\n",
       "    <tr>\n",
       "      <th>8</th>\n",
       "      <td>1010.00</td>\n",
       "      <td>Anjali</td>\n",
       "      <td>Lucknow</td>\n",
       "      <td>20000.00</td>\n",
       "    </tr>\n",
       "    <tr>\n",
       "      <th>9</th>\n",
       "      <td>2723</td>\n",
       "      <td>Asad</td>\n",
       "      <td>Jamshedpur</td>\n",
       "      <td>3600000.0</td>\n",
       "    </tr>\n",
       "    <tr>\n",
       "      <th>10</th>\n",
       "      <td>741</td>\n",
       "      <td>Nitesh</td>\n",
       "      <td>Dhanbaad</td>\n",
       "      <td>89000.0</td>\n",
       "    </tr>\n",
       "  </tbody>\n",
       "</table>\n",
       "</div>"
      ],
      "text/plain": [
       "          0       1           2          3\n",
       "0   1001.00  Dhiman     Kolkata   39000.00\n",
       "1   1002.00  Anupam     Kolkata   25000.00\n",
       "2   1003.00  Subham      Mumbai   36000.00\n",
       "3   1004.00  Dinesh     Chennai   28000.00\n",
       "4   1005.00  Kakali      Mumbai   25000.00\n",
       "5   1006.00   Bimal   Hyderabad   30000.00\n",
       "6   1007.00   Tarun     Chennai   17000.00\n",
       "7   1009.00   Barun   Hyderabad   39000.00\n",
       "8   1010.00  Anjali     Lucknow   20000.00\n",
       "9      2723    Asad  Jamshedpur  3600000.0\n",
       "10      741  Nitesh    Dhanbaad    89000.0"
      ]
     },
     "execution_count": 32,
     "metadata": {},
     "output_type": "execute_result"
    }
   ],
   "source": [
    "records = pd.DataFrame( data = table)\n",
    "records"
   ]
  },
  {
   "cell_type": "code",
   "execution_count": 33,
   "id": "ee15195e-c226-42d8-bb3b-1f387ea0c677",
   "metadata": {},
   "outputs": [
    {
     "data": {
      "text/html": [
       "<div>\n",
       "<style scoped>\n",
       "    .dataframe tbody tr th:only-of-type {\n",
       "        vertical-align: middle;\n",
       "    }\n",
       "\n",
       "    .dataframe tbody tr th {\n",
       "        vertical-align: top;\n",
       "    }\n",
       "\n",
       "    .dataframe thead th {\n",
       "        text-align: right;\n",
       "    }\n",
       "</style>\n",
       "<table border=\"1\" class=\"dataframe\">\n",
       "  <thead>\n",
       "    <tr style=\"text-align: right;\">\n",
       "      <th></th>\n",
       "      <th>Emp-ID</th>\n",
       "      <th>Emp_Name</th>\n",
       "      <th>Emp-City</th>\n",
       "      <th>Emp-Salary</th>\n",
       "    </tr>\n",
       "  </thead>\n",
       "  <tbody>\n",
       "    <tr>\n",
       "      <th>0</th>\n",
       "      <td>1001.00</td>\n",
       "      <td>Dhiman</td>\n",
       "      <td>Kolkata</td>\n",
       "      <td>39000.00</td>\n",
       "    </tr>\n",
       "    <tr>\n",
       "      <th>1</th>\n",
       "      <td>1002.00</td>\n",
       "      <td>Anupam</td>\n",
       "      <td>Kolkata</td>\n",
       "      <td>25000.00</td>\n",
       "    </tr>\n",
       "    <tr>\n",
       "      <th>2</th>\n",
       "      <td>1003.00</td>\n",
       "      <td>Subham</td>\n",
       "      <td>Mumbai</td>\n",
       "      <td>36000.00</td>\n",
       "    </tr>\n",
       "    <tr>\n",
       "      <th>3</th>\n",
       "      <td>1004.00</td>\n",
       "      <td>Dinesh</td>\n",
       "      <td>Chennai</td>\n",
       "      <td>28000.00</td>\n",
       "    </tr>\n",
       "    <tr>\n",
       "      <th>4</th>\n",
       "      <td>1005.00</td>\n",
       "      <td>Kakali</td>\n",
       "      <td>Mumbai</td>\n",
       "      <td>25000.00</td>\n",
       "    </tr>\n",
       "    <tr>\n",
       "      <th>5</th>\n",
       "      <td>1006.00</td>\n",
       "      <td>Bimal</td>\n",
       "      <td>Hyderabad</td>\n",
       "      <td>30000.00</td>\n",
       "    </tr>\n",
       "    <tr>\n",
       "      <th>6</th>\n",
       "      <td>1007.00</td>\n",
       "      <td>Tarun</td>\n",
       "      <td>Chennai</td>\n",
       "      <td>17000.00</td>\n",
       "    </tr>\n",
       "    <tr>\n",
       "      <th>7</th>\n",
       "      <td>1009.00</td>\n",
       "      <td>Barun</td>\n",
       "      <td>Hyderabad</td>\n",
       "      <td>39000.00</td>\n",
       "    </tr>\n",
       "    <tr>\n",
       "      <th>8</th>\n",
       "      <td>1010.00</td>\n",
       "      <td>Anjali</td>\n",
       "      <td>Lucknow</td>\n",
       "      <td>20000.00</td>\n",
       "    </tr>\n",
       "    <tr>\n",
       "      <th>9</th>\n",
       "      <td>2723</td>\n",
       "      <td>Asad</td>\n",
       "      <td>Jamshedpur</td>\n",
       "      <td>3600000.0</td>\n",
       "    </tr>\n",
       "    <tr>\n",
       "      <th>10</th>\n",
       "      <td>741</td>\n",
       "      <td>Nitesh</td>\n",
       "      <td>Dhanbaad</td>\n",
       "      <td>89000.0</td>\n",
       "    </tr>\n",
       "  </tbody>\n",
       "</table>\n",
       "</div>"
      ],
      "text/plain": [
       "     Emp-ID Emp_Name    Emp-City Emp-Salary\n",
       "0   1001.00   Dhiman     Kolkata   39000.00\n",
       "1   1002.00   Anupam     Kolkata   25000.00\n",
       "2   1003.00   Subham      Mumbai   36000.00\n",
       "3   1004.00   Dinesh     Chennai   28000.00\n",
       "4   1005.00   Kakali      Mumbai   25000.00\n",
       "5   1006.00    Bimal   Hyderabad   30000.00\n",
       "6   1007.00    Tarun     Chennai   17000.00\n",
       "7   1009.00    Barun   Hyderabad   39000.00\n",
       "8   1010.00   Anjali     Lucknow   20000.00\n",
       "9      2723     Asad  Jamshedpur  3600000.0\n",
       "10      741   Nitesh    Dhanbaad    89000.0"
      ]
     },
     "execution_count": 33,
     "metadata": {},
     "output_type": "execute_result"
    }
   ],
   "source": [
    "sqlStr = \"SELECT * FROM employee;\"\n",
    "table = connection.execute(sqlStr)\n",
    "col_names = ['Emp-ID','Emp_Name','Emp-City','Emp-Salary']\n",
    "records = pd.DataFrame( data = table, columns = col_names)\n",
    "records"
   ]
  },
  {
   "cell_type": "markdown",
   "id": "757d9b24-0ce7-4ddc-9df9-f3d63c672945",
   "metadata": {},
   "source": [
    "## MatPlotLib"
   ]
  },
  {
   "cell_type": "code",
   "execution_count": 34,
   "id": "64a3e658-9e7f-44d3-882a-11d1fda2b1c9",
   "metadata": {},
   "outputs": [
    {
     "data": {
      "image/png": "[encoded data removed]",
      "text/plain": [
       "<Figure size 640x480 with 1 Axes>"
      ]
     },
     "metadata": {},
     "output_type": "display_data"
    }
   ],
   "source": [
    "import matplotlib.pyplot as plt\n",
    "plt.scatter(records['Emp-ID'],records['Emp-Salary'])\n",
    "plt.show()"
   ]
  }
 ],
 "metadata": {
  "kernelspec": {
   "display_name": "Python 3 (ipykernel)",
   "language": "python",
   "name": "python3"
  },
  "language_info": {
   "codemirror_mode": {
    "name": "ipython",
    "version": 3
   },
   "file_extension": ".py",
   "mimetype": "text/x-python",
   "name": "python",
   "nbconvert_exporter": "python",
   "pygments_lexer": "ipython3",
   "version": "3.13.3"
  }
 },
 "nbformat": 4,
 "nbformat_minor": 5
}
