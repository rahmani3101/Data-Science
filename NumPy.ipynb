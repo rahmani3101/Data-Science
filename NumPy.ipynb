{
 "cells": [
  {
   "cell_type": "markdown",
   "id": "9499e8dd-2a9b-48c9-b97a-5a173be2d48b",
   "metadata": {},
   "source": [
    "# NumPy"
   ]
  },
  {
   "cell_type": "markdown",
   "id": "0fc52745-0516-4aa4-8eb8-87199efdd12e",
   "metadata": {},
   "source": [
    "## Arrays and matrices"
   ]
  },
  {
   "cell_type": "markdown",
   "id": "ce1da452-7d51-4e82-addd-9040ce8b00c4",
   "metadata": {},
   "source": [
    "Numpy full form \"Numerical Python\"\n",
    "Travis Oliphant created NumPy package in 2005 by injecting the features of the ancestor module Numeric into another module Numarray.\n",
    "NumPy is a fundamental package for scientific computing in Python.It is a Python library that provide a multidimensional array object,various derived objects(such as masked array and matrices) and an assorted of routines for fast operations on array,including mnathematical , logical ,shape manipulation , sorting , selecting , I/O , discrete Fourier transforms , basic linear algebra , basic statistical operations , random simulation and much more...."
   ]
  },
  {
   "cell_type": "code",
   "execution_count": 1,
   "id": "88573d18-d125-4f15-a6db-032aa5ef4b51",
   "metadata": {},
   "outputs": [],
   "source": [
    "import numpy as np"
   ]
  },
  {
   "cell_type": "markdown",
   "id": "16353b2f-3c75-4461-9f91-4603aebf7dc3",
   "metadata": {},
   "source": [
    "## Creating Arrays"
   ]
  },
  {
   "cell_type": "code",
   "execution_count": 7,
   "id": "79319ab6-caf8-4d18-b967-869031e572b2",
   "metadata": {},
   "outputs": [
    {
     "name": "stdout",
     "output_type": "stream",
     "text": [
      "[1, 2, 3, 4, 5] <class 'list'>\n",
      "[1 2 3 4 5] <class 'numpy.ndarray'>\n"
     ]
    }
   ],
   "source": [
    "# creating a nd array\n",
    "# every elements must be of same data type(conversion can be possible)\n",
    "data1 = [1,2,3,4,5]  #list\n",
    "arr1 = np.array(data1)\n",
    "print(data1 , type(data1))\n",
    "print(arr1 , type(arr1))"
   ]
  },
  {
   "cell_type": "code",
   "execution_count": 8,
   "id": "264fd285-8348-4e75-a14f-6623d00359f2",
   "metadata": {},
   "outputs": [
    {
     "name": "stdout",
     "output_type": "stream",
     "text": [
      "[1, 2.2, 3, 4, 5] <class 'list'>\n",
      "[1.  2.2 3.  4.  5. ] <class 'numpy.ndarray'>\n"
     ]
    }
   ],
   "source": [
    "data1 = [1,2.2,3,4,5]  #list\n",
    "arr1 = np.array(data1)\n",
    "print(data1 , type(data1))\n",
    "print(arr1 , type(arr1))"
   ]
  },
  {
   "cell_type": "code",
   "execution_count": 9,
   "id": "78cc4373-d0e9-4190-bf2c-9f6ebf7b2414",
   "metadata": {},
   "outputs": [
    {
     "name": "stdout",
     "output_type": "stream",
     "text": [
      "[range(1, 5), range(5, 9)] <class 'list'>\n",
      "[[1 2 3 4]\n",
      " [5 6 7 8]] <class 'numpy.ndarray'>\n"
     ]
    }
   ],
   "source": [
    "data2 = [range(1,5) ,range(5,9)] # list of lists\n",
    "print(data2 , type(data2))\n",
    "arr2 = np.array(data2)\n",
    "print(arr2 , type(arr2))"
   ]
  },
  {
   "cell_type": "code",
   "execution_count": 11,
   "id": "57341841-2ef0-42ab-ad1b-1436b8bd95df",
   "metadata": {},
   "outputs": [],
   "source": [
    "list2 = arr2.tolist()"
   ]
  },
  {
   "cell_type": "code",
   "execution_count": 12,
   "id": "61f2efcf-d241-40fc-b9ac-c4047d0f67f4",
   "metadata": {},
   "outputs": [
    {
     "name": "stdout",
     "output_type": "stream",
     "text": [
      "[[1, 2, 3, 4], [5, 6, 7, 8]] <class 'list'>\n"
     ]
    }
   ],
   "source": [
    "print(list2 , type(list2))"
   ]
  }
 ],
 "metadata": {
  "kernelspec": {
   "display_name": "Python 3 (ipykernel)",
   "language": "python",
   "name": "python3"
  },
  "language_info": {
   "codemirror_mode": {
    "name": "ipython",
    "version": 3
   },
   "file_extension": ".py",
   "mimetype": "text/x-python",
   "name": "python",
   "nbconvert_exporter": "python",
   "pygments_lexer": "ipython3",
   "version": "3.13.3"
  }
 },
 "nbformat": 4,
 "nbformat_minor": 5
}
